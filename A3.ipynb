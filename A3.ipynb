{
  "nbformat": 4,
  "nbformat_minor": 0,
  "metadata": {
    "colab": {
      "name": "A3.ipynb",
      "provenance": [],
      "include_colab_link": true
    },
    "kernelspec": {
      "name": "python3",
      "display_name": "Python 3"
    }
  },
  "cells": [
    {
      "cell_type": "markdown",
      "metadata": {
        "id": "view-in-github",
        "colab_type": "text"
      },
      "source": [
        "<a href=\"https://colab.research.google.com/github/ovllya126/UTS_ML2019_ID13307095/blob/master/A3.ipynb\" target=\"_parent\"><img src=\"https://colab.research.google.com/assets/colab-badge.svg\" alt=\"Open In Colab\"/></a>"
      ]
    },
    {
      "cell_type": "markdown",
      "metadata": {
        "id": "5Z8v5o-jkrYI",
        "colab_type": "text"
      },
      "source": [
        "# Assignment 3: Pitch and Plan for Solving a Domain Problem"
      ]
    },
    {
      "cell_type": "markdown",
      "metadata": {
        "id": "e-XdFR9xk96X",
        "colab_type": "text"
      },
      "source": [
        "**32513 Advanced Data Analytics Algorithms Spring 2019**"
      ]
    },
    {
      "cell_type": "markdown",
      "metadata": {
        "id": "xuwDtCNS3iMC",
        "colab_type": "text"
      },
      "source": [
        "Jinyan Dong 13307095"
      ]
    },
    {
      "cell_type": "markdown",
      "metadata": {
        "id": "f_qid7Mk3xkn",
        "colab_type": "text"
      },
      "source": [
        "Github link: https://github.com/ovllya126/UTS_ML2019_ID13307095/blob/master/A3.ipynb"
      ]
    },
    {
      "cell_type": "markdown",
      "metadata": {
        "id": "mW4Zqydnk-qY",
        "colab_type": "text"
      },
      "source": [
        "# PROJECT TITLE: Sale performance prediction of brand-new products based on advertising location analysis"
      ]
    },
    {
      "cell_type": "markdown",
      "metadata": {
        "id": "2uOjJlguxJwG",
        "colab_type": "text"
      },
      "source": [
        "# AIMS"
      ]
    },
    {
      "cell_type": "markdown",
      "metadata": {
        "id": "2tcks_buxMiD",
        "colab_type": "text"
      },
      "source": [
        "The aim of this project is to develop an approach that can predict the sale performance of a brand-new product by analysing locations of advertising for similar and complementary products.<br>\n",
        "\n",
        "1.   Gather location and product information of advertising for goods, separating to competitive ones and complementary ones.\n",
        "2.   Choose effective attributes for data training set.\n",
        "3.   Use location analysis and advertisement analysis to build and train appropriate models for prediction\n",
        "4.   Test and deploy models\n",
        "\n",
        "Among above procedures, location analysis is used for collecting, judging and deciding the appropriate place for organizations, events or stores. It can tackle location-based problems by building location models, which are essential for assessing and suggesting the position plan with big data analyses (IGI global 2019).<br><br>\n",
        "In addition, advertising analysis is a specific form of market research. As advertisement has become increasingly significant in business market, companies escalate their spend on promotion. To gain the most benefit of advertisement, it is an efficient way to do advertisement analyses scaling down the cost and enlarging the effects of advertising (Handlin 2019, para.1)."
      ]
    },
    {
      "cell_type": "markdown",
      "metadata": {
        "id": "eg-ty8jJxqpC",
        "colab_type": "text"
      },
      "source": [
        "# BACKGROUND"
      ]
    },
    {
      "cell_type": "markdown",
      "metadata": {
        "id": "ZS8XlWhdxzDe",
        "colab_type": "text"
      },
      "source": [
        "With the growth of economy, small business has become popular in society. However, due to limitation of budget, they need to spend specific amounts of money for advertisement, which can bring them benefit without wasting. Therefore, analyses relating to advertisement and sale performance are essential for them to figure out the features of advertisement that can affect sales of products and handle with relationship between them.<br><br>\n",
        "There are a great number of market researches conducted to improve benefits from advertising. They found out many features of advertising can influence the sale performance, including familiarity with a brand, comparison promotion and favours of customers.<br><br>\n",
        "For example, Abdelaal and Sase (2014) used qualitative method to analyse discourse and semiotics effects in advertisement. J.A. Garcı ́a (2011)also proposed visibility method to analyse how images in advertisement can draw customers attentions.<br><br>\n",
        "This research is similar with them in terms of conducting market research and qualitative analyses focusing on advertisement effects. This means that we conducted performance-based analyses focusing on results of advertisement rather than other effective elements. Also, the procedures of data collection and processes are same, as we gather information from customers.<br><br>\n",
        "However, this paper only concentrates on one specific feature that is the location of advertisement, using location-allocation analyses, which is generally applied in selecting organization sites. And it also concentrates on the brand competition, with analyses of competitive and complementary products. Complementary product means that the consumption between goods and goods is combined and affect each other's needs. If the price of one type of goods increases, it will lead to a decline in the demand for another type of goods. Therefore, it also a significant factor on advertisement.\n"
      ]
    },
    {
      "cell_type": "markdown",
      "metadata": {
        "id": "RaNDTCCdyTq7",
        "colab_type": "text"
      },
      "source": [
        "# RESEARCH PROJECT"
      ]
    },
    {
      "cell_type": "markdown",
      "metadata": {
        "id": "XJAWsB9Iye_2",
        "colab_type": "text"
      },
      "source": [
        "## Significance"
      ]
    },
    {
      "cell_type": "markdown",
      "metadata": {
        "id": "8W4DkKwjyieO",
        "colab_type": "text"
      },
      "source": [
        "Increasing companies start focusing on the efficient promotion of product, as many advertisements have little influence in sales leading to wastes. The expectation of advertisement from companies is to gain benefits by controlling cost and meanwhile keep the maximum of sales. <br><br>\n",
        "There are many factors that can affect the results of advertising, while among them, location of advertisement plays a significant role, since it directly associates with the attention of customers. For instance, if the location has few of pedestrian or is seldom noticed by pedestrian, the promotion of the advertisement may not achieve the expectation. Consequently, it is the key to deploy advertisement in an excellent position, and therefore, analyses of advertising position are in demand.<br><br>\n",
        "However, there is few researches exploring relationship between advertising location and sale performance, which is an important problem needed to be solved.\n"
      ]
    },
    {
      "cell_type": "markdown",
      "metadata": {
        "id": "gLdxqZE8ymzl",
        "colab_type": "text"
      },
      "source": [
        "## Innovation"
      ]
    },
    {
      "cell_type": "markdown",
      "metadata": {
        "id": "ZdieUrJcyo8c",
        "colab_type": "text"
      },
      "source": [
        "One of the innovation of this project is that it combines advertisement analysis with location analysis, as there are many analyses for the relationship between advertisement and sale performance, but few of them mentioned the location factor. <br><br>\n",
        "To build the model, the plan of this project is to use ArcGIS library and network analyst tools implemented by Python. GIS is mainly be used to solve location-allocation problems for organizations, but seldom be used to decide the allocation of advertisement. Moreover, ArcGIS is a geographic information system (GIS) which can analyse and deal with geographic data in maps. It uses network analyst toolset to calculate and solve the location-based problems, which enables organizations to have more efficient actions and strategic decisions (ArcGIS Resources 2014).<br><br>\n",
        "Another innovation is that it also considers the influence of competitive and complementary products. It means that, if an advertisement of test product is surrounded by that of competitive product, some kinds of attentions from customers may be split, and as the result, effects of the advertisement may be reduced. On the contrary, if it is surrounded by that of complementary product, the sale may increase.Therefore, it is also crucial for teams to have competitive analyses on the locations of advertisement."
      ]
    },
    {
      "cell_type": "markdown",
      "metadata": {
        "id": "JGq2WADAys8s",
        "colab_type": "text"
      },
      "source": [
        "## Methods"
      ]
    },
    {
      "cell_type": "markdown",
      "metadata": {
        "id": "3QVUybAQyvxM",
        "colab_type": "text"
      },
      "source": [
        "The method for this project is using ArcGIS to compile and analyse location of advertisement."
      ]
    },
    {
      "cell_type": "markdown",
      "metadata": {
        "id": "bhHtfz55yzRR",
        "colab_type": "text"
      },
      "source": [
        "### Research"
      ]
    },
    {
      "cell_type": "markdown",
      "metadata": {
        "id": "vH9iUFI4y5xO",
        "colab_type": "text"
      },
      "source": [
        "At the beginning of this project, a lot of researches need to be conducted by marketing and product group. The main missions contain listing the products, collecting data and taking interviews with customers and finding out effective elements of Competitive and complementary products.\n"
      ]
    },
    {
      "cell_type": "markdown",
      "metadata": {
        "id": "VZ5OlO0Ey1Lc",
        "colab_type": "text"
      },
      "source": [
        "1.  Listing the products and sale performance\n",
        "\n",
        "Product Group should figure out a list of products that need to be analysed according to the influence from similar and complementary products, and then, separate them into two groups which are ‘competitive’ one and ‘complementary’ one. The later researches should base on these two categories.<br><br>\n",
        "Meanwhile, they also need provide the sale information of those products, for the period of months, seasons and years, excluding the influence caused by other strongly effective elements.\n",
        "\n"
      ]
    },
    {
      "cell_type": "markdown",
      "metadata": {
        "id": "j1roJLtvzEf5",
        "colab_type": "text"
      },
      "source": [
        "2.   Collect location data\n",
        "\n",
        "After Marketing group received the lists, they should have surveys for collecting location information of those products. The main attributes are listed below.<br><br>\n",
        "\n",
        "*   Longitude and latitude: They are attributes of geographic location, required by network analyst tools. ArcGIS can draw these positions in real map, showing the overall view of the specific exploring area.\n",
        "*   Horizonal level: Based on the average height of presidents in the area, the attentions of people can vary with the level referring to the view level of people’s eyes. Too high or too low can lead to poor attraction.\n",
        "*   Passer-by flow per day: By counting how many people pass by this area every day, system can analyse the power of influence advertising in this area. More people are active in the place means that more opportunities for advertisement can be noticed.\n",
        "* Surroundings: Surroundings includes whether there are shelters around the advertisement, whether the view is broad, whether there are stores selling similar products or complementary products and whether there are entertainment venues and public infrastructures.\n",
        "* On public vehicles: Inside public vehicles, there are dense crowds and long focusing time, where it can be more possible for advertisement to be noticed.\n",
        "* Move or stand still: Those who are printed in surface of vehicles like buses, taxis, trains, and even airplanes, can be evaluated as the forms of dynamic routes to have further researches.\n",
        "\n",
        "\n"
      ]
    },
    {
      "cell_type": "markdown",
      "metadata": {
        "id": "EJfNKFD6zeMY",
        "colab_type": "text"
      },
      "source": [
        "3.  Interview\n",
        "\n",
        "Interviews of how people think deployed in where advertisement can be noticed is essential for latter analyses. It can figure out whether the location is attractive or ignored, keeping the dataset reliable.\n"
      ]
    },
    {
      "cell_type": "markdown",
      "metadata": {
        "id": "_wC6emo3zm7y",
        "colab_type": "text"
      },
      "source": [
        "### Build models"
      ]
    },
    {
      "cell_type": "markdown",
      "metadata": {
        "id": "9CZE7cbCzrFq",
        "colab_type": "text"
      },
      "source": [
        "After researches, one month data of effective attributes should be sorted and filtered to be used as the training sets for model building. <br><br>\n",
        "At the beginning of the project, training group should have researches on ArcGIS library and network analyst toolsets and build rough frameworks of model.<br><br>\n",
        "When train group receive the training datasets of one month, they use training datasets to build and train models with Python and ArcGIS, and waiting to next month, testing group can have meetings with training group every week. In the meeting, testing group should keep pace with the schedule of training group and test the models with testing dataset.\n"
      ]
    },
    {
      "cell_type": "markdown",
      "metadata": {
        "id": "QjGKsO6FzvrJ",
        "colab_type": "text"
      },
      "source": [
        "### Evaluation"
      ]
    },
    {
      "cell_type": "markdown",
      "metadata": {
        "id": "TdbKSPVzz2qx",
        "colab_type": "text"
      },
      "source": [
        "In the period of testing, test group should have assessments for the models based on precision rate and error rate of model performance. They also should return the feedback to training group so that training group can notice drawbacks and improve their models.<br><br>\n",
        "The above procedure will iterate for six times.\n"
      ]
    },
    {
      "cell_type": "markdown",
      "metadata": {
        "id": "3In0kMrOz4Bm",
        "colab_type": "text"
      },
      "source": [
        "### Deployment"
      ]
    },
    {
      "cell_type": "markdown",
      "metadata": {
        "id": "ZX7PACTSz6G7",
        "colab_type": "text"
      },
      "source": [
        "When test group decided a well-trained model with high evaluation, the deployment group can start planning deployment in the way of writing documents. After planning and modification, they can deploy the model in products and selected areas and gain the further feedback and do reports.\n"
      ]
    },
    {
      "cell_type": "markdown",
      "metadata": {
        "id": "6RkBbJsnz7bi",
        "colab_type": "text"
      },
      "source": [
        "## Timeline"
      ]
    },
    {
      "cell_type": "markdown",
      "metadata": {
        "id": "78xV8zRY2X2m",
        "colab_type": "text"
      },
      "source": [
        "Figure 1 shows the Gantt chart of this project."
      ]
    },
    {
      "cell_type": "markdown",
      "metadata": {
        "id": "W5Sj9j4Wz9Rm",
        "colab_type": "text"
      },
      "source": [
        "<img src=\"https://github.com/ovllya126/UTS_ML2019_ID13307095/blob/master/Screenshot%202019-10-09%2011.12.30.png?raw=true\" width=\"1000\"/>\n",
        "\n",
        "*Figure 1. Gantt chart*"
      ]
    },
    {
      "cell_type": "markdown",
      "metadata": {
        "id": "_ptfHpgQz_4M",
        "colab_type": "text"
      },
      "source": [
        "The time of each group is shown below. \n",
        "* Product group: Six months\n",
        "* Marketing group: Six months\n",
        "* Survey group: Five and a half months Data group: Five and a half months\n",
        "* Train group: Eight months\n",
        "* Test group: Six months\n",
        "* Deployment group: Three months"
      ]
    },
    {
      "cell_type": "markdown",
      "metadata": {
        "id": "d6QSorDd0JRN",
        "colab_type": "text"
      },
      "source": [
        "## Outcomes and benefits"
      ]
    },
    {
      "cell_type": "markdown",
      "metadata": {
        "id": "77woHOpM0LOq",
        "colab_type": "text"
      },
      "source": [
        "The inputs of this system are location and product data and the outputs are prediction sales of the test products and recommended advertisement points and lines. It also contains ranks of locations, which can let users have better understand of advertising deployment.<br><br>\n",
        "With the outputs, companies can simulate some locations of advertisement and get the results of sale. Based on results, they can adjust the locations to achieve more optimal sales.<br><br>\n",
        "One of the benefits of this system is that those small companies can save budgets spent on advertisement. The suggestions provided by systems considers many factors and they can evaluate their plan through simulation getting results without realizing.<br><br>\n",
        "The other is that they can have a better performance on the sale of products. They can modify their plans according to simulation results, and then, choose the best plan to deploy their advertisements.\n"
      ]
    },
    {
      "cell_type": "markdown",
      "metadata": {
        "id": "crsmGnwZ0RGs",
        "colab_type": "text"
      },
      "source": [
        "# Budget"
      ]
    },
    {
      "cell_type": "markdown",
      "metadata": {
        "id": "amJiqPse24kD",
        "colab_type": "text"
      },
      "source": [
        "FIgure 2 shows the details of budgets for this project."
      ]
    },
    {
      "cell_type": "markdown",
      "metadata": {
        "id": "M1YDilU_0SxU",
        "colab_type": "text"
      },
      "source": [
        "<img src=\"https://github.com/ovllya126/UTS_ML2019_ID13307095/blob/master/Screenshot%202019-10-09%2013.14.30.png?raw=true\" width=\"700\"/>\n",
        "\n",
        "*Figure 2. Budgets for this project*"
      ]
    },
    {
      "cell_type": "markdown",
      "metadata": {
        "id": "xlg3Tswz0TCp",
        "colab_type": "text"
      },
      "source": [
        "# Personnel"
      ]
    },
    {
      "cell_type": "markdown",
      "metadata": {
        "id": "7vGuuYdT0XWx",
        "colab_type": "text"
      },
      "source": [
        "The members of product group are planned to be ten people, including one PM, and the rests are grouped in to three teams with three leaders, and six researchers. All of them should have knowledge of product promotions and have abilities of conducting researches. In addition, the PM should relate project experience. It should be considered that PM can oversee brand competition and product advertising and have commercial execution and decision skills. The person should have strong ability of team management.<br><br>\n",
        "Marketing group has ten people, and roles of each person are same as the product group. Members should have sharp observation of changes in real place marketing. The required skills of PM is same as that in product group.<br><br>\n",
        "Survey group has two teams with three people in a team. Members should be outgoing, adaptable and have strong communication skills, as they need to talk with customers and get useful information about their feelings of advertisement.<br><br>\n",
        "Data group contains six IT support members and analysts who should know how to analyse and sort the product and advertisement data. They should focus on details and be proficiency in Microsoft Office.<br><br>\n",
        "Train and test group are key groups both of which has one PM, five leaders and twenty technicians and programmers. Members should highly master data analyse an IT related techniques and skills such as Python. They should have well understandings of SQL, Python, R and BI tools such as Tableau, relate experience, knowledge of creating and working within a Data Warehouse.<br><br>\n",
        "Deployment group members should have abilities to delivering product marketing strategies in a wide-range space, and also be proficiency in Microsoft Office.<br><br>\n",
        "All members are required to be able to work in a team, but also individually at times, and have good communication skills, both written and verbal.\n"
      ]
    },
    {
      "cell_type": "markdown",
      "metadata": {
        "id": "P6kqwRel0qbk",
        "colab_type": "text"
      },
      "source": [
        "# Reference"
      ]
    },
    {
      "cell_type": "markdown",
      "metadata": {
        "id": "F2x5ByLB1EYB",
        "colab_type": "text"
      },
      "source": [
        "Abdelaal, N.M. & Sase, A.S. 2014, 'Advertisement analysis: A comparative critical study', Advances in Language and Literary studies, vol. 5, no. 6, pp. 254-9. <br><br>\n",
        "ArcGIS Recources 2014, ArcGIS Help 10.1, viewed 9 October 2019, <http://resources.arcgis.com/en/help/main/10.1/index.html#//004700000001000000 ><br><br>\n",
        "García, J.A., Rodriguez-Sánchez, R., Fdez-Valdivia, J. & Martinez-Baena, J. 2011,\n",
        "'Comparative visibility analysis of advertisement images', Signal Processing:\n",
        "Image Communication, vol. 26, no. 10, pp. 589-611.<br><br>\n",
        "Handlin, A. 2019, Advertising Analysis Examples, Chron, viewed 9 October 2019,\n",
        "<https://smallbusiness.chron.com/advertising-analysis-examples-15327.html > <br><br>IGI Global 2019, What is Location Analysis, viewed 9 October 2019,\n",
        "<http://www.igi-global.com/dictionary/location-analysis/17388 >\n"
      ]
    },
    {
      "cell_type": "markdown",
      "metadata": {
        "id": "q9BHZ_SH1YD_",
        "colab_type": "text"
      },
      "source": [
        "# VIDEO PITCH"
      ]
    },
    {
      "cell_type": "markdown",
      "metadata": {
        "id": "20FZrjTB1ajX",
        "colab_type": "text"
      },
      "source": [
        ""
      ]
    }
  ]
}