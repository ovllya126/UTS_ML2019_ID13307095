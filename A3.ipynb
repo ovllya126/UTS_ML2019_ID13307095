{
  "nbformat": 4,
  "nbformat_minor": 0,
  "metadata": {
    "colab": {
      "name": "A3.ipynb",
      "provenance": [],
      "include_colab_link": true
    },
    "kernelspec": {
      "name": "python3",
      "display_name": "Python 3"
    }
  },
  "cells": [
    {
      "cell_type": "markdown",
      "metadata": {
        "id": "view-in-github",
        "colab_type": "text"
      },
      "source": [
        "<a href=\"https://colab.research.google.com/github/ovllya126/UTS_ML2019_ID13307095/blob/master/A3.ipynb\" target=\"_parent\"><img src=\"https://colab.research.google.com/assets/colab-badge.svg\" alt=\"Open In Colab\"/></a>"
      ]
    },
    {
      "cell_type": "markdown",
      "metadata": {
        "id": "5Z8v5o-jkrYI",
        "colab_type": "text"
      },
      "source": [
        "# Assignment 3"
      ]
    },
    {
      "cell_type": "markdown",
      "metadata": {
        "id": "e-XdFR9xk96X",
        "colab_type": "text"
      },
      "source": [
        ""
      ]
    },
    {
      "cell_type": "markdown",
      "metadata": {
        "id": "mW4Zqydnk-qY",
        "colab_type": "text"
      },
      "source": [
        "# PROJECT TITLE"
      ]
    },
    {
      "cell_type": "markdown",
      "metadata": {
        "id": "U1ROljEAxIeJ",
        "colab_type": "text"
      },
      "source": [
        "Sale performance prediction of brand-new products based on advertising location analysis"
      ]
    },
    {
      "cell_type": "markdown",
      "metadata": {
        "id": "2uOjJlguxJwG",
        "colab_type": "text"
      },
      "source": [
        "# AIMS"
      ]
    },
    {
      "cell_type": "markdown",
      "metadata": {
        "id": "2tcks_buxMiD",
        "colab_type": "text"
      },
      "source": [
        "The aim of this project is to develop an approach that can predict the sale performance of a brand-new product by analysing locations of advertising for similar and complementary products.<br>\n",
        "\n",
        "1.   Gather location and product information of advertising for goods, separating to competitive ones and complementary ones.\n",
        "2.   Choose effective attributes for data training set.\n",
        "3.   Use location analysis and advertisement analysis to build and train appropriate models for prediction\n",
        "4.   Test and deploy models\n",
        "\n",
        "Among above procedures, location analysis is used for collecting, judging and deciding the appropriate place for organizations, events or stores. It can tackle location-based problems by building location models, which are essential for assessing and suggesting the position plan with big data analyses (IGI global 2019).<br><br>\n",
        "In addition, advertising analysis is a specific form of market research. As advertisement has become increasingly significant in business market, companies escalate their spend on promotion. To gain the most benefit of advertisement, it is an efficient way to do advertisement analyses scaling down the cost and enlarging the effects of advertising (Handlin 2019, para.1)."
      ]
    },
    {
      "cell_type": "markdown",
      "metadata": {
        "id": "eg-ty8jJxqpC",
        "colab_type": "text"
      },
      "source": [
        "# BACKGROUND"
      ]
    },
    {
      "cell_type": "markdown",
      "metadata": {
        "id": "ZS8XlWhdxzDe",
        "colab_type": "text"
      },
      "source": [
        "With the growth of economy, small business has become popular in society. However, due to limitation of budget, they need to spend specific amounts of money for advertisement, which can bring them benefit without wasting. Therefore, analyses relating to advertisement and sale performance are essential for them to figure out the features of advertisement that can affect sales of products and handle with relationship between them.<br><br>\n",
        "There are a great number of market researches conducted to improve benefits from advertising. They found out many features of advertising can influence the sale performance, including familiarity with a brand, comparison promotion and favours of customers.<br><br>\n",
        "For example, Abdelaal and Sase (2014) used qualitative method to analyse discourse and semiotics effects in advertisement. J.A. Garcı ́a (2011)also proposed visibility method to analyse how images in advertisement can draw customers attentions.<br><br>\n",
        "This research is similar with them in terms of conducting market research and qualitative analyses focusing on advertisement effects. This means that we conducted performance-based analyses focusing on results of advertisement rather than other effective elements. Also, the procedures of data collection and processes are same, as we gather information from customers.<br><br>\n",
        "However, this paper only concentrates on one specific feature that is the location of advertisement, using location-allocation analyses, which is generally applied in selecting organization sites. And it also concentrates on the brand competition, with analyses of competitive and complementary products. Complementary product means that the consumption between goods and goods is combined and affect each other's needs. If the price of one type of goods increases, it will lead to a decline in the demand for another type of goods. Therefore, it also a significant factor on advertisement.\n"
      ]
    },
    {
      "cell_type": "markdown",
      "metadata": {
        "id": "RaNDTCCdyTq7",
        "colab_type": "text"
      },
      "source": [
        ""
      ]
    }
  ]
}