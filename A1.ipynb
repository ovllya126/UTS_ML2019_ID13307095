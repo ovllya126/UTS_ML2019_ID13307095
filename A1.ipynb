{
  "nbformat": 4,
  "nbformat_minor": 0,
  "metadata": {
    "colab": {
      "name": "A1.ipynb",
      "version": "0.3.2",
      "provenance": [],
      "include_colab_link": true
    },
    "kernelspec": {
      "name": "python3",
      "display_name": "Python 3"
    }
  },
  "cells": [
    {
      "cell_type": "markdown",
      "metadata": {
        "id": "view-in-github",
        "colab_type": "text"
      },
      "source": [
        "<a href=\"https://colab.research.google.com/github/ovllya126/UTS_ML2019_ID13307095/blob/master/A1.ipynb\" target=\"_parent\"><img src=\"https://colab.research.google.com/assets/colab-badge.svg\" alt=\"Open In Colab\"/></a>"
      ]
    },
    {
      "cell_type": "markdown",
      "metadata": {
        "id": "F3lPka05flzA",
        "colab_type": "text"
      },
      "source": [
        "# **Draft and Experiment Area**"
      ]
    },
    {
      "cell_type": "markdown",
      "metadata": {
        "id": "1ZtV_TwzfkOk",
        "colab_type": "text"
      },
      "source": [
        "1. First impression\n",
        "    * What is my chosen paper to read?\n",
        "    * What type of the main contribution the paper has made?\n",
        "        - A theory or proposition (revealing something, from unknown to known)\n",
        "        - A method or algorithm (inventing a technique, from undoable to doable)\n",
        "\n",
        "    * _Before_ reading the main body of the paper, write down your first impression  obtained from its abstract and short introduction.\n",
        "    * Why does the paper attract you, such as, How it surprised you? Why do you think it addresses an important topic that will be helpful in your future study of machine learning?\n",
        "    \n",
        "2. Read the paper abstract and introduction, list here all the notions that you don't know the precise meaning. If you think you have completed your list,  compare the list with people around you who have chosen the same or a similar paper.\n",
        "\n",
        "3. (During the next 7 days) Re-consider the central problem of the paper."
      ]
    },
    {
      "cell_type": "markdown",
      "metadata": {
        "id": "SwfUPAUAgDnu",
        "colab_type": "text"
      },
      "source": [
        "# Review Report on \"PaperName\""
      ]
    },
    {
      "cell_type": "markdown",
      "metadata": {
        "id": "KSrL3bXRehuW",
        "colab_type": "text"
      },
      "source": [
        "## Introduction"
      ]
    },
    {
      "cell_type": "markdown",
      "metadata": {
        "id": "pJ_PzNXseoEv",
        "colab_type": "text"
      },
      "source": [
        "## Content"
      ]
    },
    {
      "cell_type": "markdown",
      "metadata": {
        "id": "tF04pRVtfHvQ",
        "colab_type": "text"
      },
      "source": [
        "300"
      ]
    },
    {
      "cell_type": "markdown",
      "metadata": {
        "id": "tc-Vcq-ZgkZm",
        "colab_type": "text"
      },
      "source": [
        "The research is about .... A theorem has been proved stating ... / An algorithm of ... has been proposed."
      ]
    },
    {
      "cell_type": "markdown",
      "metadata": {
        "id": "6_cqdRinsD22",
        "colab_type": "text"
      },
      "source": [
        ""
      ]
    },
    {
      "cell_type": "markdown",
      "metadata": {
        "id": "mzFL67yvesFT",
        "colab_type": "text"
      },
      "source": [
        "## Innovation"
      ]
    },
    {
      "cell_type": "markdown",
      "metadata": {
        "id": "12imssK9fI6D",
        "colab_type": "text"
      },
      "source": [
        "300"
      ]
    },
    {
      "cell_type": "markdown",
      "metadata": {
        "id": "7z77Heudgv2X",
        "colab_type": "text"
      },
      "source": [
        "The background at the time of the work is that people understood the problem as .... The creative idea is ..."
      ]
    },
    {
      "cell_type": "markdown",
      "metadata": {
        "id": "agVjxCSsextr",
        "colab_type": "text"
      },
      "source": [
        "## Technical quality"
      ]
    },
    {
      "cell_type": "markdown",
      "metadata": {
        "id": "BMR7AzQmfK9J",
        "colab_type": "text"
      },
      "source": [
        "200"
      ]
    },
    {
      "cell_type": "markdown",
      "metadata": {
        "id": "y3UAns1Ue2ji",
        "colab_type": "text"
      },
      "source": [
        "## Application and X-factor"
      ]
    },
    {
      "cell_type": "markdown",
      "metadata": {
        "id": "_IUX_yBUfMLu",
        "colab_type": "text"
      },
      "source": [
        "200"
      ]
    },
    {
      "cell_type": "markdown",
      "metadata": {
        "id": "LpC_rnOoe5Qg",
        "colab_type": "text"
      },
      "source": [
        "## Presentation"
      ]
    },
    {
      "cell_type": "markdown",
      "metadata": {
        "id": "WKBvgpj8fOHH",
        "colab_type": "text"
      },
      "source": [
        "100"
      ]
    },
    {
      "cell_type": "markdown",
      "metadata": {
        "id": "F7UrKnIse92W",
        "colab_type": "text"
      },
      "source": [
        "## References"
      ]
    }
  ]
}