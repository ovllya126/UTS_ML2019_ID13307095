{
  "nbformat": 4,
  "nbformat_minor": 0,
  "metadata": {
    "colab": {
      "name": "A2_report.ipynb",
      "provenance": [],
      "include_colab_link": true
    },
    "kernelspec": {
      "name": "python3",
      "display_name": "Python 3"
    }
  },
  "cells": [
    {
      "cell_type": "markdown",
      "metadata": {
        "id": "view-in-github",
        "colab_type": "text"
      },
      "source": [
        "<a href=\"https://colab.research.google.com/github/ovllya126/UTS_ML2019_ID13307095/blob/master/A2/A2_report.ipynb\" target=\"_parent\"><img src=\"https://colab.research.google.com/assets/colab-badge.svg\" alt=\"Open In Colab\"/></a>"
      ]
    },
    {
      "cell_type": "markdown",
      "metadata": {
        "id": "NPuKuKPdeCgf",
        "colab_type": "text"
      },
      "source": [
        "# Background"
      ]
    },
    {
      "cell_type": "markdown",
      "metadata": {
        "id": "SR19o2A4eWJf",
        "colab_type": "text"
      },
      "source": [
        "With the development of computer and internet in today’s world, a new industry has become increasingly popular, which is game. Therefore, analysing and predicting data in game industry is important, which can benefit companies.\n"
      ]
    },
    {
      "cell_type": "markdown",
      "metadata": {
        "id": "R-ixdH7zeamq",
        "colab_type": "text"
      },
      "source": [
        "There are two major sale patterns in game industry. The first sales model is offline entity sales model, which was used to be popular. However, with the development of internet, the second sales pattern, online platform sales model has become the most successful sales model recently. Hence, we used the data from the sales record of Steam, as Steam is the largest game sales platform in all online game platform.\n"
      ]
    },
    {
      "cell_type": "markdown",
      "metadata": {
        "id": "mrbPhbzOebMu",
        "colab_type": "text"
      },
      "source": [
        "## Business Understanding\n"
      ]
    },
    {
      "cell_type": "markdown",
      "metadata": {
        "id": "-hqkCM6tegNk",
        "colab_type": "text"
      },
      "source": [
        "It is well-known that there is not only one factor that can affect sales. It depends on many aspects. The sales of computer game also follow this principle. The attributes of this Steam dataset basically cover the most important factors affecting sales. For example, categories of game, positive or negative rating, platform supported by game, required age and price. All of these factors are considered by costumers when they purchase these games."
      ]
    },
    {
      "cell_type": "markdown",
      "metadata": {
        "id": "OqQIsO4Meg8I",
        "colab_type": "text"
      },
      "source": [
        "## Business Object"
      ]
    },
    {
      "cell_type": "markdown",
      "metadata": {
        "id": "FmJx2UuFekam",
        "colab_type": "text"
      },
      "source": [
        "The purpose of this report is to build the machine learning model to evaluate and predict the sales record of game in Steam platform. The function of this prediction is to assist the developer and publisher to mining the most effective factor of sales. Meanwhile, this model completely trained could be used to help other developer and publisher to improve sales in the future."
      ]
    },
    {
      "cell_type": "markdown",
      "metadata": {
        "id": "R3F10Pptekx5",
        "colab_type": "text"
      },
      "source": [
        "## Data Mining Challenge"
      ]
    },
    {
      "cell_type": "markdown",
      "metadata": {
        "id": "JrvEOroDelIo",
        "colab_type": "text"
      },
      "source": [
        "As there are some complex data construction and various data types in our dataset, the procedure of processing and transforming complex data into sample and uniform data types is necessary in the project. And in order to maximize the accuracy of classification, some meaningless or missing data in the dataset also need to be processed. Hence, how to reduce the noise and make data smoother is one significant problem in the process of data mining."
      ]
    },
    {
      "cell_type": "markdown",
      "metadata": {
        "id": "JCXll29gelWI",
        "colab_type": "text"
      },
      "source": [
        "Selecting the best suitable estimator to build and train models is also essential, as different estimators focus on different features of data. However, exploring data and analyzing estimators are complicated because of mixed features and various functions for estimators.In addition, it cannot be ignored that using what metrics as criteria of prediction would affect results. Therefore, the explanation of metric-selection is also important."
      ]
    },
    {
      "cell_type": "markdown",
      "metadata": {
        "id": "iQaP_IFkelpM",
        "colab_type": "text"
      },
      "source": [
        "# Data"
      ]
    },
    {
      "cell_type": "markdown",
      "metadata": {
        "id": "z6liHdaBe3rn",
        "colab_type": "text"
      },
      "source": [
        "## Data Source"
      ]
    },
    {
      "cell_type": "markdown",
      "metadata": {
        "id": "yl9N1Ri7exlT",
        "colab_type": "text"
      },
      "source": [
        "Our dataset comes from Kaggle. Kaggle which shares dataset to be used in data science research is platform for developers and data scientists to hold machine learning contests, host databases, and write and share code. There is huge amount of public data shared in Kaggle.\n"
      ]
    },
    {
      "cell_type": "markdown",
      "metadata": {
        "id": "nmlVetaxfA97",
        "colab_type": "text"
      },
      "source": [
        "Our dataset is Steam Store Game purposed in the Kaggle. This dataset contains more than 27000 combined data collected from Steam and SteamSpy APIs. In this dataset, there are 18 attributes. This dataset expresses the most aspects of game information in the steam. This dataset is used to train prediction model and predict the game price through evaluation these 18 attributes."
      ]
    },
    {
      "cell_type": "markdown",
      "metadata": {
        "id": "R_GjEFrofBkY",
        "colab_type": "text"
      },
      "source": [
        "## Data understanding"
      ]
    },
    {
      "cell_type": "markdown",
      "metadata": {
        "id": "gCLK6sKRfPGP",
        "colab_type": "text"
      },
      "source": [
        "\n",
        "There are 18 attributes in this table, which are appid, name, release_date, English, developer, pulisher, platforms, required_age, categories, genres, steam_tags, achievements, positive_ratings, negative_ratings, average_playtime, median_playtime, owners and price. Each attribute mean will be explained below."
      ]
    },
    {
      "cell_type": "markdown",
      "metadata": {
        "id": "8xBjkZ3ufQon",
        "colab_type": "text"
      },
      "source": [
        "Appid: Unique identifier for each title </br>\n",
        "Name: Title of app (game)</br>\n",
        "release_date: Release date in format YYYY-MM-DD</br>\n",
        "english: Language support: 1 if is in English</br>\n",
        "developer: Name (or names) of developer(s). Semicolon delimited if multiple </br>\n",
        "publisher: Name (or names) of publisher(s). Semicolon delimited if multiple </br>\n",
        "platforms: Semicolon delimited list of supported platforms. At most includes: windows; mac; linux.</br>\n",
        "required_age: Minimum required age according to PEGI UK standards. Many with 0 are unrated or unsupplied.</br>\n",
        "Categories: Semicolon delimited list of game categories, e.g. single-player; multi-player</br>\n",
        "Genres: Semicolon delimited list of game genres, e.g. action; adventure </br>\n",
        "steamspy_tags: Semicolon delimited list of top steamspy game tags, similar to genres but community voted, e.g. action; adventure</br>\n",
        "achievements: Number of in-games achievements, if any</br>\n",
        "positive_ratings: Number of positive ratings, from SteamSpy</br>\n",
        "negative_ratings: Number of negative ratings, from SteamSpy average_playtime: Average user playtime, from SteamSpy</br>\n",
        "median_playtime: Median user playtime, from SteamSpy</br>\n",
        "owners: Estimated number of owners. Contains lower and upper bound (like 20000-50000). May wish to take mid-point or lower bound. Included both to give options.</br>\n",
        "Price: Current full price of title in GBP, (pounds sterling)</br>"
      ]
    },
    {
      "cell_type": "markdown",
      "metadata": {
        "id": "htW1kxD3fivQ",
        "colab_type": "text"
      },
      "source": [
        "## Data Exploration"
      ]
    },
    {
      "cell_type": "markdown",
      "metadata": {
        "id": "UYJQkkCefS_6",
        "colab_type": "text"
      },
      "source": [
        "\n",
        "The nature of data mining is to extract information from huge datasets and transform information into an easy-to-understand structure. Data exploration is the primary process of data mining. In this report, firstly the data is visualized in order to explore the potential data regulation and formulate the pre-processing operation required by this dataset."
      ]
    },
    {
      "cell_type": "markdown",
      "metadata": {
        "id": "7UeTVLQHgVZE",
        "colab_type": "text"
      },
      "source": [
        "[link text](https://)Data statistics"
      ]
    },
    {
      "cell_type": "markdown",
      "metadata": {
        "id": "pRqlXtJ6fp0u",
        "colab_type": "text"
      },
      "source": [
        "This picture illustrates the amount of every attribute, mean, maximum value, minimum values and median value. The purpose of this section is to describe the characteristics of each dataset. In this section, the trend of some attributes could get a rough feature. Figure 2, there are some interesting value of some attribute. The value of average_playtime and median_playtime attribute in the maximum and minimum value is 0. Combination these value with mean value, there may be huge amount of game that this attribute is 0. The attributes of achievements, positive_ratings, negative_ratings, average_playtime and median_playtime have large value of standard deviation. These data need to perform standardization operation."
      ]
    },
    {
      "cell_type": "markdown",
      "metadata": {
        "id": "45DYsi28gUsA",
        "colab_type": "text"
      },
      "source": [
        "[link text](https://)"
      ]
    },
    {
      "cell_type": "markdown",
      "metadata": {
        "id": "yFbvE7oygf0D",
        "colab_type": "text"
      },
      "source": [
        "In this histogram, there are nearly 20,000 samples supported English in the dataset containing 27,000 samples. Hence, English is currently the major language of game. This data structure is very simple, this attribute does not need additional processing."
      ]
    },
    {
      "cell_type": "markdown",
      "metadata": {
        "id": "XjpKBx7dgySx",
        "colab_type": "text"
      },
      "source": [
        "[link text](https://)"
      ]
    },
    {
      "cell_type": "markdown",
      "metadata": {
        "id": "6fb8D1vAgzJR",
        "colab_type": "text"
      },
      "source": [
        "\n",
        "This picture shows that the distribution of gamers’ required age. Most games do not have the age limit. However, required_age only have four values which have a big gap between these values. Transforming type of required_age to control standard deviation of this attribute need to be conducted."
      ]
    },
    {
      "cell_type": "markdown",
      "metadata": {
        "id": "jk3oZ5CGgz5U",
        "colab_type": "text"
      },
      "source": [
        "[link text](https://)"
      ]
    },
    {
      "cell_type": "markdown",
      "metadata": {
        "id": "PfMy979Vg4zf",
        "colab_type": "text"
      },
      "source": [
        "Positive ratings and negative ratings have opposite effects, so they need to be discussed together. According to figure 2, these two box plots show that most values are distributed in 0, with outliers from 0 to more than one million. So, it is important to normalize the values in these two attributes to get smaller variance."
      ]
    },
    {
      "cell_type": "markdown",
      "metadata": {
        "id": "1xIeHBygg5SY",
        "colab_type": "text"
      },
      "source": [
        "[link text](https://)"
      ]
    },
    {
      "cell_type": "markdown",
      "metadata": {
        "id": "BcSYfryRg7Lr",
        "colab_type": "text"
      },
      "source": [
        "This picture is about the number of achievements in games. Zero represents that there is no achievement system in the game. Nearly half games do not have an achievement. The variance is also huge, so it also needs to be normalized."
      ]
    },
    {
      "cell_type": "markdown",
      "metadata": {
        "id": "igkVmWiqg_g_",
        "colab_type": "text"
      },
      "source": [
        "[link text](https://)"
      ]
    },
    {
      "cell_type": "markdown",
      "metadata": {
        "id": "hf4qK523hBze",
        "colab_type": "text"
      },
      "source": [
        "The above figures show average and median time for playing respectively. The contribution of two data is similar, with a large number of ‘0’ and big variance. Same as ‘achivements’, it needs to be normalized."
      ]
    },
    {
      "cell_type": "markdown",
      "metadata": {
        "id": "kgR2YNsfhDWj",
        "colab_type": "text"
      },
      "source": [
        "[link text](https://)"
      ]
    },
    {
      "cell_type": "markdown",
      "metadata": {
        "id": "5DIX0L65hFF9",
        "colab_type": "text"
      },
      "source": [
        "Figure 8 demonstrates the distribution of price. Trend of price is similar with ‘achievements’. However, a smaller number of values is zero than those in ‘achievements’. The distribution is more uniform that, there are seldom data that have a big gap with other data in this attribute, and this data has belonged to the type of float. As it also has big variance, it needs to be conducted pre-processing operation.\n"
      ]
    },
    {
      "cell_type": "markdown",
      "metadata": {
        "id": "oN8o_2P_hWCl",
        "colab_type": "text"
      },
      "source": [
        "[link text](https://)"
      ]
    },
    {
      "cell_type": "markdown",
      "metadata": {
        "id": "K6GyitwShXy5",
        "colab_type": "text"
      },
      "source": [
        "Due to too many attributes in this dataset, we divided these attributes into two parts. The first part is correlation of data that are original attributes easy to calculate. The second parts of correlation include the first part attribute and processed attribute that originally is object type. this operation is easy to observe and compare data.\n"
      ]
    },
    {
      "cell_type": "markdown",
      "metadata": {
        "id": "aHTWNSpohZuC",
        "colab_type": "text"
      },
      "source": [
        "According to Figure 9, positive and negative ratings have a high correlation each other. And the correlation between average median playtime is more than 0.90. The correlation of another attribute is not obvious, but has some relatively important attributes has correlation more than 0.1 with ‘owners’, including ‘platforms’, ‘required_age’, ‘average_playtime’.\n"
      ]
    },
    {
      "cell_type": "markdown",
      "metadata": {
        "id": "13iKlCtmhddi",
        "colab_type": "text"
      },
      "source": [
        "[link text](https://)"
      ]
    },
    {
      "cell_type": "markdown",
      "metadata": {
        "id": "ooEm7A7Hhe84",
        "colab_type": "text"
      },
      "source": [
        "The relationships between two different parameters are shown by visualizing the data. The data in this picture has been standardized. Through these graphs, we could discover some interesting cases. For example, all high price game support English. And basical game that do not support English have a relatively low average playtime. Unlimited age games often get more average playtime than limited age games, but this trend do not happen in the number of game owner. The number of game owners is not directly related to the age limit."
      ]
    },
    {
      "cell_type": "markdown",
      "metadata": {
        "id": "Ntq--9Y9hhhL",
        "colab_type": "text"
      },
      "source": [
        "# Pre-processing"
      ]
    },
    {
      "cell_type": "markdown",
      "metadata": {
        "id": "tiGGjFHqhvUi",
        "colab_type": "text"
      },
      "source": [
        "Pre-processing is important process of data mining. Through data understanding and exploration, some data in this dataset need transformation and feature selection to be recognized by the model, simplify the operation process, and eliminate the interference data in the data. Figure 13 displays the type of original data."
      ]
    },
    {
      "cell_type": "markdown",
      "metadata": {
        "id": "3d-5UI9VhyPw",
        "colab_type": "text"
      },
      "source": [
        "[link text](https://)"
      ]
    },
    {
      "cell_type": "markdown",
      "metadata": {
        "id": "icEVdJVMh0l6",
        "colab_type": "text"
      },
      "source": [
        "Because attributes of categories and genres in this dataset have multiple category information listed in the same table, both columns need to be unpacked. In Figure 11, we defined a function to classify the different features and generate new columns to express these features."
      ]
    },
    {
      "cell_type": "markdown",
      "metadata": {
        "id": "E8ty5e0ih1Qp",
        "colab_type": "text"
      },
      "source": [
        "[link text](https://)"
      ]
    },
    {
      "cell_type": "markdown",
      "metadata": {
        "id": "IiNLjWL_h1-0",
        "colab_type": "text"
      },
      "source": [
        "According to Figure 12, there are new attributes of this dataset which are classified by ‘cg_class’ function."
      ]
    },
    {
      "cell_type": "markdown",
      "metadata": {
        "id": "QK17V9Voh3sV",
        "colab_type": "text"
      },
      "source": [
        "[link text](https://)"
      ]
    },
    {
      "cell_type": "markdown",
      "metadata": {
        "id": "B9RGtVYhh8bZ",
        "colab_type": "text"
      },
      "source": [
        "In Figure 14, there is a function that is used to transform the type of platform and owners from object to int 64 and float 64. The data could be transformed into number. For example, if a game has all three platform attributes, the platform of game is classified as 6."
      ]
    },
    {
      "cell_type": "markdown",
      "metadata": {
        "id": "c3YqfPAVh9Aw",
        "colab_type": "text"
      },
      "source": [
        "[link text](https://)"
      ]
    },
    {
      "cell_type": "markdown",
      "metadata": {
        "id": "QdYI0UPgh99M",
        "colab_type": "text"
      },
      "source": [
        "In the same way, we also process the attribute of owners."
      ]
    },
    {
      "cell_type": "markdown",
      "metadata": {
        "id": "fkL73_xKiFD0",
        "colab_type": "text"
      },
      "source": [
        "In our dataset, there are many values are 0. Some are meaningful, for example, some free games have relatively low playtime as people only own this game without playing. Therefore, average playtime of these games is very low and near to 0 since average playtime of these game is rounded. However, the statistician of data explains some data of unknown value are also 0. We cannot completely distinguish whether these values are meaningful or not, and consequently, the results of prediction may be influenced.\n"
      ]
    },
    {
      "cell_type": "markdown",
      "metadata": {
        "id": "HVz0dUqHiK3k",
        "colab_type": "text"
      },
      "source": [
        "This is the final processed data type."
      ]
    },
    {
      "cell_type": "markdown",
      "metadata": {
        "id": "ipD8ICtiiBax",
        "colab_type": "text"
      },
      "source": [
        "[link text](https://)"
      ]
    },
    {
      "cell_type": "markdown",
      "metadata": {
        "id": "iaaSy6hDiDeP",
        "colab_type": "text"
      },
      "source": [
        "# Model"
      ]
    },
    {
      "cell_type": "markdown",
      "metadata": {
        "id": "wWKpc0r_iHWi",
        "colab_type": "text"
      },
      "source": [
        "In this part, we established four regression models. There are two important criteria for parameters of regression model. The first criterion is Coefficient of Determination (CoD), which is used to evaluate fitting superiority of different parameters of regression model. The bigger value of this criteria means that the higher degree of explanation of independent variable to dependent variable and the observation points are closer to the regression line."
      ]
    },
    {
      "cell_type": "markdown",
      "metadata": {
        "id": "6i0A87LdimDZ",
        "colab_type": "text"
      },
      "source": [
        "The second criterion is Mean-square Error (MSE). The lower value of MSE could\n",
        " obtain the better value of parameters. However, in our project, we choose the RMSE  which is the arithmetic square root of the MSE value. This method principle is the formula in the figure 16"
      ]
    },
    {
      "cell_type": "markdown",
      "metadata": {
        "id": "J2vfeKQomIJw",
        "colab_type": "text"
      },
      "source": [
        "[link text](https://)"
      ]
    },
    {
      "cell_type": "markdown",
      "metadata": {
        "id": "3HdquY5umFQm",
        "colab_type": "text"
      },
      "source": [
        "Function of the algorithm in Figure 17 is to filter critical attribute of dataset and spilt original dataset into training dataset as well as testing dataset. We filter out some unrelated columns, such as developer, publisher and release date. On the other hand, we select 20000 row of data as training data, and others is used to test the model."
      ]
    },
    {
      "cell_type": "markdown",
      "metadata": {
        "id": "q4leplvMir0P",
        "colab_type": "text"
      },
      "source": [
        "[link text](https://)"
      ]
    },
    {
      "cell_type": "markdown",
      "metadata": {
        "id": "7fnyGzNIisju",
        "colab_type": "text"
      },
      "source": [
        "In Figure 17, the first function defined by us is used to calculate the best of value of each parameters of each model to improve accuracy of model. We select four model to train and test. The four models include decision tree, random forest, bagging regressor and hist gradient boosting regressor. All of them are regression model."
      ]
    },
    {
      "cell_type": "markdown",
      "metadata": {
        "id": "WINIzI1qiuP0",
        "colab_type": "text"
      },
      "source": [
        "[link text](https://)"
      ]
    },
    {
      "cell_type": "markdown",
      "metadata": {
        "id": "CHcrZVcWiwqS",
        "colab_type": "text"
      },
      "source": [
        "The last three functions are used to output the results of parameters evaluation using the Coefficient of Determination and RMSE methods."
      ]
    },
    {
      "cell_type": "markdown",
      "metadata": {
        "id": "EI91qR1miy3m",
        "colab_type": "text"
      },
      "source": [
        "## Linear Regression"
      ]
    },
    {
      "cell_type": "markdown",
      "metadata": {
        "id": "zmUUPECHi9ho",
        "colab_type": "text"
      },
      "source": [
        "In the linear model, we try to use linear regression to handle and predict this dataset. Whereas, this method is not suitable for this dataset, the model using linear regression got a low accuracy, which is only 0.2."
      ]
    },
    {
      "cell_type": "markdown",
      "metadata": {
        "id": "tUEcSKHhi_rM",
        "colab_type": "text"
      },
      "source": [
        "## Decision Tree Regression"
      ]
    },
    {
      "cell_type": "markdown",
      "metadata": {
        "id": "O0ICgJNajA1w",
        "colab_type": "text"
      },
      "source": [
        "There is only a parameter that need to be evaluated in the decision tree regression model. This parameter is max depth of tree. In Figure 20, MSE and\n",
        "Coefficient of the decision tree regression is approximate 0.4986 when the max depth value is 7."
      ]
    },
    {
      "cell_type": "markdown",
      "metadata": {
        "id": "KZM2f2OHjcmk",
        "colab_type": "text"
      },
      "source": [
        "[link text](https://)"
      ]
    },
    {
      "cell_type": "markdown",
      "metadata": {
        "id": "BbaaASjNjiI2",
        "colab_type": "text"
      },
      "source": [
        "## Random Forest Regression"
      ]
    },
    {
      "cell_type": "markdown",
      "metadata": {
        "id": "kAsVuQRVjd_o",
        "colab_type": "text"
      },
      "source": [
        "\n",
        "The model of random forest regression is more complex than the decision tree regression model. There are majorly 5 parameters to determine the minimum value of MSE and the maximum score of CoD in this model. They are max_depths, n_estimator, min_samples_split, min_samples_leave and max_feature. Therefore, we need to find the best value of each parameter. The optimum value of each parameter was determined by searching the minimum value of MSE and the maximum value of CoD. We import these values into random forest regression model to obtain the highest score model."
      ]
    },
    {
      "cell_type": "markdown",
      "metadata": {
        "id": "kN2E0muTjjX2",
        "colab_type": "text"
      },
      "source": [
        "[link text](https://)"
      ]
    },
    {
      "cell_type": "markdown",
      "metadata": {
        "id": "ofXRW7l1jnN6",
        "colab_type": "text"
      },
      "source": [
        "After selecting the best parameters, the values of parameter is set to test for the result."
      ]
    },
    {
      "cell_type": "markdown",
      "metadata": {
        "id": "zWLcxUjajpRy",
        "colab_type": "text"
      },
      "source": [
        "[link text](https://)"
      ]
    },
    {
      "cell_type": "markdown",
      "metadata": {
        "id": "8iVi43b5jqN2",
        "colab_type": "text"
      },
      "source": [
        "## Bagging regression"
      ]
    },
    {
      "cell_type": "markdown",
      "metadata": {
        "id": "IS95Z14-jqoY",
        "colab_type": "text"
      },
      "source": [
        "The best value of parameters in bagging regression could be determined through the same approach. There are three significant parameters need to process in the bagging regression model."
      ]
    },
    {
      "cell_type": "markdown",
      "metadata": {
        "id": "dsiH_zoKjvNG",
        "colab_type": "text"
      },
      "source": [
        "[link text](https://)"
      ]
    },
    {
      "cell_type": "markdown",
      "metadata": {
        "id": "Zi5-ECozjxcU",
        "colab_type": "text"
      },
      "source": [
        "## Hist Gradient Boosting Regression"
      ]
    },
    {
      "cell_type": "markdown",
      "metadata": {
        "id": "OQyDWd8-jzWO",
        "colab_type": "text"
      },
      "source": [
        "The training process of hist gradient boosting regression model is similar with other three model."
      ]
    },
    {
      "cell_type": "markdown",
      "metadata": {
        "id": "DkuJdBQBj1AM",
        "colab_type": "text"
      },
      "source": [
        "[link text](https://)"
      ]
    },
    {
      "cell_type": "markdown",
      "metadata": {
        "id": "9uDRw84zj15u",
        "colab_type": "text"
      },
      "source": [
        "## Efficiency"
      ]
    },
    {
      "cell_type": "markdown",
      "metadata": {
        "id": "kXWMPQaAj82E",
        "colab_type": "text"
      },
      "source": [
        ""
      ]
    },
    {
      "cell_type": "markdown",
      "metadata": {
        "id": "n5lkkcRkj5Gi",
        "colab_type": "text"
      },
      "source": [
        "## Comparation"
      ]
    },
    {
      "cell_type": "markdown",
      "metadata": {
        "id": "FO-LhpNBj9gE",
        "colab_type": "text"
      },
      "source": [
        ""
      ]
    },
    {
      "cell_type": "markdown",
      "metadata": {
        "id": "XvqqEZLGj-Ny",
        "colab_type": "text"
      },
      "source": [
        "[link text](https://)"
      ]
    },
    {
      "cell_type": "markdown",
      "metadata": {
        "id": "Q3j82tpYkAVs",
        "colab_type": "text"
      },
      "source": [
        "The four curves represent RMSE scores of each model with the change of training size in the Figure. As we can see, even if all data is used to train the decision tree model, the decision tree model gets the lowest score. Although the trends of random forest model and bagging regression model are roughly similar, the score of random forest model is always better than the bagging regression model. Despite the initial score of hist gradient boosting regression is the lowest in these three models, this model has better growth. As the grow of number of training data, HGB model score appears faster increase. When the ratio whose function is to spilt training data is 0.8, the score of HGB model surpasses the random forest model."
      ]
    },
    {
      "cell_type": "markdown",
      "metadata": {
        "id": "8uDv9d8HkD4R",
        "colab_type": "text"
      },
      "source": [
        "# Ethical"
      ]
    },
    {
      "cell_type": "markdown",
      "metadata": {
        "id": "4fGXaSFikGKz",
        "colab_type": "text"
      },
      "source": [
        "The purpose of our project is to design and train a model used to evaluate factors affecting sales and predict the sales of game. However, in terms of ethic, publishers and developers could use this model to get the factor that affects sales, and then add records and advertising features that are not real to improve the game sales, which is absolutely the actions of cheating consumers.\n"
      ]
    },
    {
      "cell_type": "markdown",
      "metadata": {
        "id": "4OTcCdOSkH9h",
        "colab_type": "text"
      },
      "source": [
        "The phenomenon, cheating consumers through fake information, has appeared in many e-commerce marketing. For instance, Taobao is the largest and the most popular online shopping platforms in China. In this website, favorable rating and sales volume directly affect the store orders when users search for goods. Therefore, many sellers hired some people to purchase goods from their online store to left great numbers of good comments. As the result, sellers could get the higher rank of items, which can appeal to more customers."
      ]
    },
    {
      "cell_type": "markdown",
      "metadata": {
        "id": "LV4v_DjCkJnf",
        "colab_type": "text"
      },
      "source": [
        "\n",
        "The sellers of online games can use the same method to appeal more buyers with the help of prediction models. It should be concerned."
      ]
    },
    {
      "cell_type": "markdown",
      "metadata": {
        "id": "EKF5ZNpxkK0n",
        "colab_type": "text"
      },
      "source": [
        "# Conclution"
      ]
    },
    {
      "cell_type": "markdown",
      "metadata": {
        "id": "Bufb_knGkNiE",
        "colab_type": "text"
      },
      "source": [
        "From this assignment, we learnt a lot about Machine Learning implemented by Python."
      ]
    },
    {
      "cell_type": "markdown",
      "metadata": {
        "id": "j1SwBhU9kPZC",
        "colab_type": "text"
      },
      "source": [
        "After considering efficiency and accessibility, we use Scikit-Learn to build and train our models, which has simple and efficient tools for data mining and data analysis. The main and important references we used are Scikit-Learn v0.21.3 API from online website ‘https://scikit-learn.org/stable/modules/classes.html’ and codes posed by tutors on Github.\n"
      ]
    },
    {
      "cell_type": "markdown",
      "metadata": {
        "id": "iiibSX0ZkQoR",
        "colab_type": "text"
      },
      "source": [
        "There are several modules for data modelling including pre-processing, clustering, model selection, classification and regression in Scikit-Learn. We explored them and found appropriate functions to process data and build models."
      ]
    },
    {
      "cell_type": "markdown",
      "metadata": {
        "id": "M1k6dTGGkSRP",
        "colab_type": "text"
      },
      "source": [
        "In terms of pre-processing, the significant step is exploration of each attribute, in order to deciding which attribute should be processed. After that, we tried ‘preprocessing’ module to deal with selected attributes, such as standardization, normalization, encoding categorical features, to get smoother data.\n"
      ]
    },
    {
      "cell_type": "markdown",
      "metadata": {
        "id": "er0x3AN5kT9_",
        "colab_type": "text"
      },
      "source": [
        "Before we started to building models, we learnt and compared each classifier and regressor, choosing what we can use to get better results. Among many classifiers and regressors, we decided to use Decision Tree, Random Forest, Bagging and Gradient Boosting to build models and have the comparison.\n"
      ]
    },
    {
      "cell_type": "markdown",
      "metadata": {
        "id": "k4vA287VkVXF",
        "colab_type": "text"
      },
      "source": [
        "When training and testing, we required knowledge about metrics for models, including mean squared error regression loss and R^2 (coefficient of determination) regression score function. Based on those, we built models fitting different regressors to get criterion results.\n"
      ]
    },
    {
      "cell_type": "markdown",
      "metadata": {
        "id": "kvxTEbIskYWv",
        "colab_type": "text"
      },
      "source": [
        "We also learnt many methods to visualize data, with help of ‘matplotlib’ and ‘seaborn’ from python."
      ]
    },
    {
      "cell_type": "markdown",
      "metadata": {
        "id": "ZNfLfBonkZw0",
        "colab_type": "text"
      },
      "source": [
        "In addition, we think the most important improvement for future works is that we can use ‘GridSearchCV’ function from model selection module to adjust parameters for regressors, which can return the best values of parameters and be more efficient for parameters adjustment."
      ]
    }
  ]
}