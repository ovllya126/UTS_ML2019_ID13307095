{
  "nbformat": 4,
  "nbformat_minor": 0,
  "metadata": {
    "colab": {
      "name": "A2_report.ipynb",
      "provenance": [],
      "include_colab_link": true
    },
    "kernelspec": {
      "name": "python3",
      "display_name": "Python 3"
    }
  },
  "cells": [
    {
      "cell_type": "markdown",
      "metadata": {
        "id": "view-in-github",
        "colab_type": "text"
      },
      "source": [
        "<a href=\"https://colab.research.google.com/github/ovllya126/UTS_ML2019_ID13307095/blob/master/A2/A2_report.ipynb\" target=\"_parent\"><img src=\"https://colab.research.google.com/assets/colab-badge.svg\" alt=\"Open In Colab\"/></a>"
      ]
    },
    {
      "cell_type": "markdown",
      "metadata": {
        "id": "5VaXpIIzI85C",
        "colab_type": "text"
      },
      "source": [
        "# Assignment 2: Practical Machine Learning Project "
      ]
    },
    {
      "cell_type": "markdown",
      "metadata": {
        "id": "miZlKTttJLuL",
        "colab_type": "text"
      },
      "source": [
        "**31005|32513 Machine Learning Spring 2019**\n"
      ]
    },
    {
      "cell_type": "markdown",
      "metadata": {
        "id": "LaJhgO0dvwIh",
        "colab_type": "text"
      },
      "source": [
        "Jinyan Dong 13307095 </br>\n",
        "Shaojie Miao 13145685"
      ]
    },
    {
      "cell_type": "markdown",
      "metadata": {
        "id": "Q-4AR1GFZTFd",
        "colab_type": "text"
      },
      "source": [
        "Github Link: https://github.com/ovllya126/UTS_ML2019_ID13307095/tree/master/A2"
      ]
    },
    {
      "cell_type": "markdown",
      "metadata": {
        "colab_type": "text",
        "id": "ksmoxFQwvvj-"
      },
      "source": [
        "# Background"
      ]
    },
    {
      "cell_type": "markdown",
      "metadata": {
        "id": "SR19o2A4eWJf",
        "colab_type": "text"
      },
      "source": [
        "With the development of computer and internet in today’s world, a new industry has become increasingly popular, which is game. Therefore, analysing and predicting data in game industry is important, which can benefit companies.\n"
      ]
    },
    {
      "cell_type": "markdown",
      "metadata": {
        "id": "R-ixdH7zeamq",
        "colab_type": "text"
      },
      "source": [
        "There are two major sale patterns in game industry. The first sales model is offline entity sales model, which was used to be popular. However, with the development of internet, the second sales pattern, online platform sales model has become the most successful sales model recently. Hence, we used the data from the sales record of Steam, as Steam is the largest game sales platform in all online game platform.\n"
      ]
    },
    {
      "cell_type": "markdown",
      "metadata": {
        "id": "mrbPhbzOebMu",
        "colab_type": "text"
      },
      "source": [
        "## Business Understanding\n"
      ]
    },
    {
      "cell_type": "markdown",
      "metadata": {
        "id": "-hqkCM6tegNk",
        "colab_type": "text"
      },
      "source": [
        "It is well-known that there is not only one factor that can affect sales. It depends on many aspects. The sales of computer game also follow this principle. The attributes of this Steam dataset basically cover the most important factors affecting sales. For example, categories of game, positive or negative rating, platform supported by game, required age and price. All of these factors are considered by costumers when they purchase these games."
      ]
    },
    {
      "cell_type": "markdown",
      "metadata": {
        "id": "OqQIsO4Meg8I",
        "colab_type": "text"
      },
      "source": [
        "## Business Object"
      ]
    },
    {
      "cell_type": "markdown",
      "metadata": {
        "id": "FmJx2UuFekam",
        "colab_type": "text"
      },
      "source": [
        "The purpose of this report is to build the machine learning model to evaluate and predict the sales record of game in Steam platform. The function of this prediction is to assist the developer and publisher to mining the most effective factor of sales. Meanwhile, this model completely trained could be used to help other developer and publisher to improve sales in the future."
      ]
    },
    {
      "cell_type": "markdown",
      "metadata": {
        "id": "R3F10Pptekx5",
        "colab_type": "text"
      },
      "source": [
        "## Data Mining Challenge"
      ]
    },
    {
      "cell_type": "markdown",
      "metadata": {
        "id": "JrvEOroDelIo",
        "colab_type": "text"
      },
      "source": [
        "As there are some complex data construction and various data types in our dataset, the procedure of processing and transforming complex data into sample and uniform data types is necessary in the project. And in order to maximize the accuracy of classification, some meaningless or missing data in the dataset also need to be processed. Hence, how to reduce the noise and make data smoother is one significant problem in the process of data mining."
      ]
    },
    {
      "cell_type": "markdown",
      "metadata": {
        "id": "JCXll29gelWI",
        "colab_type": "text"
      },
      "source": [
        "Selecting the best suitable estimator to build and train models is also essential, as different estimators focus on different features of data. However, exploring data and analyzing estimators are complicated because of mixed features and various functions for estimators.In addition, it cannot be ignored that using what metrics as criteria of prediction would affect results. Therefore, the explanation of metric-selection is also important."
      ]
    },
    {
      "cell_type": "markdown",
      "metadata": {
        "id": "iQaP_IFkelpM",
        "colab_type": "text"
      },
      "source": [
        "# Data"
      ]
    },
    {
      "cell_type": "markdown",
      "metadata": {
        "id": "z6liHdaBe3rn",
        "colab_type": "text"
      },
      "source": [
        "## Data Source"
      ]
    },
    {
      "cell_type": "markdown",
      "metadata": {
        "id": "yl9N1Ri7exlT",
        "colab_type": "text"
      },
      "source": [
        "Our dataset comes from Kaggle. Kaggle which shares dataset to be used in data science research is platform for developers and data scientists to hold machine learning contests, host databases, and write and share code. There is huge amount of public data shared in Kaggle.\n"
      ]
    },
    {
      "cell_type": "markdown",
      "metadata": {
        "id": "nmlVetaxfA97",
        "colab_type": "text"
      },
      "source": [
        "Our dataset is Steam Store Game purposed in the Kaggle. This dataset contains more than 27000 combined data collected from Steam and SteamSpy APIs. In this dataset, there are 18 attributes. This dataset expresses the most aspects of game information in the steam. This dataset is used to train prediction model and predict the game price through evaluation these 18 attributes."
      ]
    },
    {
      "cell_type": "markdown",
      "metadata": {
        "id": "R_GjEFrofBkY",
        "colab_type": "text"
      },
      "source": [
        "## Data understanding"
      ]
    },
    {
      "cell_type": "markdown",
      "metadata": {
        "id": "gCLK6sKRfPGP",
        "colab_type": "text"
      },
      "source": [
        "\n",
        "There are 18 attributes in this table, which are appid, name, release_date, English, developer, pulisher, platforms, required_age, categories, genres, steam_tags, achievements, positive_ratings, negative_ratings, average_playtime, median_playtime, owners and price. Each attribute mean will be explained below."
      ]
    },
    {
      "cell_type": "markdown",
      "metadata": {
        "id": "8xBjkZ3ufQon",
        "colab_type": "text"
      },
      "source": [
        "Appid: Unique identifier for each title </br>\n",
        "Name: Title of app (game)</br>\n",
        "release_date: Release date in format YYYY-MM-DD</br>\n",
        "english: Language support: 1 if is in English</br>\n",
        "developer: Name (or names) of developer(s). Semicolon delimited if multiple </br>\n",
        "publisher: Name (or names) of publisher(s). Semicolon delimited if multiple </br>\n",
        "platforms: Semicolon delimited list of supported platforms. At most includes: windows; mac; linux.</br>\n",
        "required_age: Minimum required age according to PEGI UK standards. Many with 0 are unrated or unsupplied.</br>\n",
        "Categories: Semicolon delimited list of game categories, e.g. single-player; multi-player</br>\n",
        "Genres: Semicolon delimited list of game genres, e.g. action; adventure </br>\n",
        "steamspy_tags: Semicolon delimited list of top steamspy game tags, similar to genres but community voted, e.g. action; adventure</br>\n",
        "achievements: Number of in-games achievements, if any</br>\n",
        "positive_ratings: Number of positive ratings, from SteamSpy</br>\n",
        "negative_ratings: Number of negative ratings, from SteamSpy average_playtime: Average user playtime, from SteamSpy</br>\n",
        "median_playtime: Median user playtime, from SteamSpy</br>\n",
        "owners: Estimated number of owners. Contains lower and upper bound (like 20000-50000). May wish to take mid-point or lower bound. Included both to give options.</br>\n",
        "Price: Current full price of title in GBP, (pounds sterling)</br>"
      ]
    },
    {
      "cell_type": "markdown",
      "metadata": {
        "id": "htW1kxD3fivQ",
        "colab_type": "text"
      },
      "source": [
        "## Data Exploration"
      ]
    },
    {
      "cell_type": "markdown",
      "metadata": {
        "id": "UYJQkkCefS_6",
        "colab_type": "text"
      },
      "source": [
        "\n",
        "The nature of data mining is to extract information from huge datasets and transform information into an easy-to-understand structure. Data exploration is the primary process of data mining. In this report, firstly the data is visualized in order to explore the potential data regulation and formulate the pre-processing operation required by this dataset."
      ]
    },
    {
      "cell_type": "markdown",
      "metadata": {
        "id": "7UeTVLQHgVZE",
        "colab_type": "text"
      },
      "source": [
        "<img src=\"https://github.com/ovllya126/UTS_ML2019_ID13307095/blob/master/A2/Pictures/3.png?raw=true\" width=\"1500\"/>\n",
        "\n",
        "                   Figure 1. Data statistics\n",
        "\n",
        "\n"
      ]
    },
    {
      "cell_type": "markdown",
      "metadata": {
        "id": "pRqlXtJ6fp0u",
        "colab_type": "text"
      },
      "source": [
        "Figure 1 illustrates the amount of every attribute, mean, maximum value, minimum values and median value. The purpose of this section is to describe the characteristics of each dataset. In this section, the trend of some attributes could get a rough feature. Figure 2, there are some interesting value of some attribute. The value of average_playtime and median_playtime attribute in the maximum and minimum value is 0. Combination these value with mean value, there may be huge amount of game that this attribute is 0. The attributes of achievements, positive_ratings, negative_ratings, average_playtime and median_playtime have large value of standard deviation. These data need to perform standardization operation."
      ]
    },
    {
      "cell_type": "markdown",
      "metadata": {
        "id": "45DYsi28gUsA",
        "colab_type": "text"
      },
      "source": [
        "<img src=\"https://github.com/ovllya126/UTS_ML2019_ID13307095/blob/master/A2/Pictures/1.png?raw=true\" width=\"350\"/>\n",
        "\n",
        "                   Figure 2. Histogram of 'english' attribute"
      ]
    },
    {
      "cell_type": "markdown",
      "metadata": {
        "id": "yFbvE7oygf0D",
        "colab_type": "text"
      },
      "source": [
        "In figure 2, there are nearly 20,000 samples supported English in the dataset containing 27,000 samples. Hence, English is currently the major language of game. This data structure is very simple, this attribute does not need additional processing."
      ]
    },
    {
      "cell_type": "markdown",
      "metadata": {
        "id": "XjpKBx7dgySx",
        "colab_type": "text"
      },
      "source": [
        "<img src=\"https://github.com/ovllya126/UTS_ML2019_ID13307095/blob/master/A2/Pictures/2.png?raw=true\" width=\"350\"/>\n",
        "\n",
        "                   Figure 3. Histogram of 'required_age' attribute"
      ]
    },
    {
      "cell_type": "markdown",
      "metadata": {
        "id": "6fb8D1vAgzJR",
        "colab_type": "text"
      },
      "source": [
        "\n",
        "Figure 3 shows that the distribution of gamers’ required age. Most games do not have the age limit. However, required_age only have four values which have a big gap between these values. Transforming type of required_age to control standard deviation of this attribute need to be conducted."
      ]
    },
    {
      "cell_type": "markdown",
      "metadata": {
        "id": "jk3oZ5CGgz5U",
        "colab_type": "text"
      },
      "source": [
        "<img src=\"https://github.com/ovllya126/UTS_ML2019_ID13307095/blob/master/A2/Pictures/4-1.png?raw=true\" width=\"500\"/>\n",
        "\n",
        "                   Figure 4. Plotbox of 'positive_ratings' attribute\n"
      ]
    },
    {
      "cell_type": "markdown",
      "metadata": {
        "id": "CDWleytqsdSZ",
        "colab_type": "text"
      },
      "source": [
        "<img src=\"https://github.com/ovllya126/UTS_ML2019_ID13307095/blob/master/A2/Pictures/4-2.png?raw=true\" width=\"500\"/>\n",
        "\n",
        "                   Figure 5. Plotbox of 'negative_ratings' attribute"
      ]
    },
    {
      "cell_type": "markdown",
      "metadata": {
        "id": "PfMy979Vg4zf",
        "colab_type": "text"
      },
      "source": [
        "Positive ratings and negative ratings have opposite effects, so they need to be discussed together. According to figure 4 and 5, these two box plots show that most values are distributed in 0, with outliers from 0 to more than one million. So, it is important to normalize the values in these two attributes to get smaller variance."
      ]
    },
    {
      "cell_type": "markdown",
      "metadata": {
        "id": "1xIeHBygg5SY",
        "colab_type": "text"
      },
      "source": [
        "<img src=\"https://github.com/ovllya126/UTS_ML2019_ID13307095/blob/master/A2/Pictures/5.png?raw=true\" width=\"500\"/>\n",
        "\n",
        "                   Figure 6. Histogram of 'Achievements' attribute"
      ]
    },
    {
      "cell_type": "markdown",
      "metadata": {
        "id": "BcSYfryRg7Lr",
        "colab_type": "text"
      },
      "source": [
        "Figure 6 is about the number of achievements in games. Zero represents that there is no achievement system in the game. Nearly half games do not have an achievement. The variance is also huge, so it also needs to be normalized."
      ]
    },
    {
      "cell_type": "markdown",
      "metadata": {
        "id": "igkVmWiqg_g_",
        "colab_type": "text"
      },
      "source": [
        "<img src=\"https://github.com/ovllya126/UTS_ML2019_ID13307095/blob/master/A2/Pictures/6.png?raw=true\" width=\"500\"/>\n",
        "\n",
        "                   Figure 7. Histogram of 'average playtime' attribute"
      ]
    },
    {
      "cell_type": "markdown",
      "metadata": {
        "id": "kgR2YNsfhDWj",
        "colab_type": "text"
      },
      "source": [
        "<img src=\"https://github.com/ovllya126/UTS_ML2019_ID13307095/blob/master/A2/Pictures/888.png?raw=true\" width=\"500\"/>\n",
        "\n",
        "                   Figure 8. Histogram of 'median playtime' attribute"
      ]
    },
    {
      "cell_type": "markdown",
      "metadata": {
        "id": "hf4qK523hBze",
        "colab_type": "text"
      },
      "source": [
        "The figure 7 and 8 show average and median time for playing respectively. The contribution of two data is similar, with a large number of ‘0’ and big variance. Same as ‘achivements’, it needs to be normalized."
      ]
    },
    {
      "cell_type": "markdown",
      "metadata": {
        "id": "hX0Y-5Kws0x4",
        "colab_type": "text"
      },
      "source": [
        "<img src=\"https://github.com/ovllya126/UTS_ML2019_ID13307095/blob/master/A2/Pictures/7.png?raw=true\" width=\"500\"/>\n",
        "\n",
        "                   Figure 9. Histogram of 'price' attribute"
      ]
    },
    {
      "cell_type": "markdown",
      "metadata": {
        "id": "5DIX0L65hFF9",
        "colab_type": "text"
      },
      "source": [
        "Figure 9 demonstrates the distribution of price. Trend of price is similar with ‘achievements’. However, a smaller number of values is zero than those in ‘achievements’. The distribution is more uniform that, there are seldom data that have a big gap with other data in this attribute, and this data has belonged to the type of float. As it also has big variance, it needs to be conducted pre-processing operation.\n"
      ]
    },
    {
      "cell_type": "markdown",
      "metadata": {
        "id": "oN8o_2P_hWCl",
        "colab_type": "text"
      },
      "source": [
        "<img src=\"https://github.com/ovllya126/UTS_ML2019_ID13307095/blob/master/A2/Pictures/heatmap%20(1).png?raw=true\" width=\"500\"/>\n",
        "\n",
        "                   Figure 10. Heatmap 1"
      ]
    },
    {
      "cell_type": "markdown",
      "metadata": {
        "id": "aQlt7x6htWmk",
        "colab_type": "text"
      },
      "source": [
        "<img src=\"https://github.com/ovllya126/UTS_ML2019_ID13307095/blob/master/A2/Pictures/heatmap2.png?raw=true\" width=\"700\"/>\n",
        "\n",
        "                   Figure 11. Heatmap 2"
      ]
    },
    {
      "cell_type": "markdown",
      "metadata": {
        "id": "K6GyitwShXy5",
        "colab_type": "text"
      },
      "source": [
        "Due to too many attributes in this dataset, we divided these attributes into two parts. The first part (figure 10) is correlation of data that are original attributes easy to calculate. The second parts of correlation (figure 11) include the first part attribute and processed attribute that originally is object type. This operation is easy to observe and compare data.\n"
      ]
    },
    {
      "cell_type": "markdown",
      "metadata": {
        "id": "aHTWNSpohZuC",
        "colab_type": "text"
      },
      "source": [
        "According to Figure 10, positive and negative ratings have a high correlation each other. And the correlation between average median playtime is more than 0.90. The correlation of another attribute is not obvious, but has some relatively important attributes has correlation more than 0.1 with ‘owners’, including ‘platforms’, ‘required_age’, ‘average_playtime’.\n"
      ]
    },
    {
      "cell_type": "markdown",
      "metadata": {
        "id": "13iKlCtmhddi",
        "colab_type": "text"
      },
      "source": [
        "<img src=\"https://github.com/ovllya126/UTS_ML2019_ID13307095/blob/master/A2/Pictures/pairs1.png?raw=true\" width=\"3000\"/>\n",
        "\n",
        "                   Figure 12. Pairs of attributes"
      ]
    },
    {
      "cell_type": "markdown",
      "metadata": {
        "id": "ooEm7A7Hhe84",
        "colab_type": "text"
      },
      "source": [
        "The relationships between two different parameters are shown by visualizing the data (figure 12). The data in this picture has been standardized. Through these graphs, we could discover some interesting cases. For example, all high price game support English. And basical game that do not support English have a relatively low average playtime. Unlimited age games often get more average playtime than limited age games, but this trend do not happen in the number of game owner. The number of game owners is not directly related to the age limit."
      ]
    },
    {
      "cell_type": "markdown",
      "metadata": {
        "id": "Ntq--9Y9hhhL",
        "colab_type": "text"
      },
      "source": [
        "# Pre-processing"
      ]
    },
    {
      "cell_type": "markdown",
      "metadata": {
        "id": "tiGGjFHqhvUi",
        "colab_type": "text"
      },
      "source": [
        "Pre-processing is important process of data mining. Through data understanding and exploration, some data in this dataset need transformation and feature selection to be recognized by the model, simplify the operation process, and eliminate the interference data in the data. Figure 13 displays the type of original data."
      ]
    },
    {
      "cell_type": "markdown",
      "metadata": {
        "id": "3d-5UI9VhyPw",
        "colab_type": "text"
      },
      "source": [
        "<img src=\"https://github.com/ovllya126/UTS_ML2019_ID13307095/blob/master/A2/Pictures/9.png?raw=true\" width=\"200\"/>\n",
        "\n",
        "                   Figure 13. Types of all attributes"
      ]
    },
    {
      "cell_type": "markdown",
      "metadata": {
        "id": "icEVdJVMh0l6",
        "colab_type": "text"
      },
      "source": [
        "Because attributes of categories and genres in this dataset have multiple category information listed in the same table, both columns need to be unpacked. In Figure 14 and 15, we defined functions to classify the different features and generate new columns to express these features."
      ]
    },
    {
      "cell_type": "markdown",
      "metadata": {
        "id": "E8ty5e0ih1Qp",
        "colab_type": "text"
      },
      "source": [
        "<img src=\"https://github.com/ovllya126/UTS_ML2019_ID13307095/blob/master/A2/Pictures/98.png?raw=true\" width=\"300\"/>\n",
        "\n",
        "                   Figure 14. Definition of  'genres' classification"
      ]
    },
    {
      "cell_type": "markdown",
      "metadata": {
        "id": "XSXYRFfNFCjc",
        "colab_type": "text"
      },
      "source": [
        "<img src=\"https://github.com/ovllya126/UTS_ML2019_ID13307095/blob/master/A2/Pictures/99.png?raw=true\" width=\"300\"/>\n",
        "\n",
        "                   Figure 15. Definition of  'categories' classification"
      ]
    },
    {
      "cell_type": "markdown",
      "metadata": {
        "id": "B9RGtVYhh8bZ",
        "colab_type": "text"
      },
      "source": [
        "In Figure 16, there is a function that is used to transform the type of platform and owners from object to int 64 and float 64. The data could be transformed into number. For example, if a game has all three platform attributes, the platform of game is classified as 6."
      ]
    },
    {
      "cell_type": "markdown",
      "metadata": {
        "id": "55M1I5MvFPaU",
        "colab_type": "text"
      },
      "source": [
        "<img src=\"https://github.com/ovllya126/UTS_ML2019_ID13307095/blob/master/A2/Pictures/97.png?raw=true\" width=\"500\"/>\n",
        "\n",
        "              Figure 16. Definition of  encoding 'platforms' and 'owners'"
      ]
    },
    {
      "cell_type": "markdown",
      "metadata": {
        "id": "QdYI0UPgh99M",
        "colab_type": "text"
      },
      "source": [
        "In the same way, we also process the attribute of owners."
      ]
    },
    {
      "cell_type": "markdown",
      "metadata": {
        "id": "fkL73_xKiFD0",
        "colab_type": "text"
      },
      "source": [
        "In our dataset, there are many values are 0. Some are meaningful, for example, some free games have relatively low playtime as people only own this game without playing. Therefore, average playtime of these games is very low and near to 0 since average playtime of these game is rounded. However, the statistician of data explains some data of unknown value are also 0. We cannot completely distinguish whether these values are meaningful or not, and consequently, the results of prediction may be influenced.\n"
      ]
    },
    {
      "cell_type": "markdown",
      "metadata": {
        "id": "1eec3-i_R_QI",
        "colab_type": "text"
      },
      "source": [
        "Finally, because there are many data that have a broad range of value in some attributes of this dataset, standardizing data is necessary to narrow the range of value, which is an essential process for some algorithms and could decrease the time it takes to perform models. For this dataset, we standardized some columns including achievements, positive ratings, negative ratings, average playtime, median playtime and price (figure 17)."
      ]
    },
    {
      "cell_type": "markdown",
      "metadata": {
        "id": "QK17V9Voh3sV",
        "colab_type": "text"
      },
      "source": [
        "<img src=\"https://github.com/ovllya126/UTS_ML2019_ID13307095/blob/master/A2/Pictures/11.png?raw=true\" width=\"500\"/>\n",
        "\n",
        "\n",
        "               Figure 17. Definition of  scaling"
      ]
    },
    {
      "cell_type": "markdown",
      "metadata": {
        "id": "HVz0dUqHiK3k",
        "colab_type": "text"
      },
      "source": [
        "Figure 18 shows the final processed data type."
      ]
    },
    {
      "cell_type": "markdown",
      "metadata": {
        "id": "ytj3UyGwEHdx",
        "colab_type": "text"
      },
      "source": [
        "<img src=\"https://github.com/ovllya126/UTS_ML2019_ID13307095/blob/master/A2/Pictures/12.png?raw=true\" width=\"250\"/>\n",
        "\n",
        "                   Figure 18. Types of all attributes after pre-processing"
      ]
    },
    {
      "cell_type": "markdown",
      "metadata": {
        "id": "iaaSy6hDiDeP",
        "colab_type": "text"
      },
      "source": [
        "# Model"
      ]
    },
    {
      "cell_type": "markdown",
      "metadata": {
        "id": "wWKpc0r_iHWi",
        "colab_type": "text"
      },
      "source": [
        "In this part, we established four regression models. There are two important criteria for parameters of regression model. The first criterion is Coefficient of Determination (CoD), which is used to evaluate fitting superiority of different parameters of regression model. The bigger value of this criteria means that the higher degree of explanation of independent variable to dependent variable and the observation points are closer to the regression line."
      ]
    },
    {
      "cell_type": "markdown",
      "metadata": {
        "id": "6i0A87LdimDZ",
        "colab_type": "text"
      },
      "source": [
        "The second criterion is Mean-square Error (MSE). The lower value of MSE could\n",
        " obtain the better value of parameters. However, in our project, we choose the RMSE  which is the arithmetic square root of the MSE value. This method principle is the formula in the figure 19."
      ]
    },
    {
      "cell_type": "markdown",
      "metadata": {
        "id": "J2vfeKQomIJw",
        "colab_type": "text"
      },
      "source": [
        "<img src=\"https://github.com/ovllya126/UTS_ML2019_ID13307095/blob/master/A2/Pictures/13.png?raw=true\" width=\"300\"/>\n",
        "\n",
        "                   Figure 19. Formula of RMSE"
      ]
    },
    {
      "cell_type": "markdown",
      "metadata": {
        "id": "3HdquY5umFQm",
        "colab_type": "text"
      },
      "source": [
        "Function of the algorithm in Figure 20 is to filter critical attribute of dataset and spilt original dataset into training dataset as well as testing dataset. We filter out some unrelated columns, such as developer, publisher and release date. What's more, we select 20000 row of data as training data, and others is used to test the model."
      ]
    },
    {
      "cell_type": "markdown",
      "metadata": {
        "id": "q4leplvMir0P",
        "colab_type": "text"
      },
      "source": [
        "<img src=\"https://github.com/ovllya126/UTS_ML2019_ID13307095/blob/master/A2/Pictures/222.png?raw=true\" width=\"800\"/>"
      ]
    },
    {
      "cell_type": "markdown",
      "metadata": {
        "id": "pN10ZxC2ugAU",
        "colab_type": "text"
      },
      "source": [
        "<img src=\"https://github.com/ovllya126/UTS_ML2019_ID13307095/blob/master/A2/Pictures/223.png?raw=true\" width=\"800\"/>\n",
        "\n",
        "               Figure 20. Seperating data for training and tesing"
      ]
    },
    {
      "cell_type": "markdown",
      "metadata": {
        "id": "7fnyGzNIisju",
        "colab_type": "text"
      },
      "source": [
        "In Figure 21, the first function defined by us is used to calculate the best of value of each parameters of each model to improve accuracy of model. We select four model to train and test. The four models include decision tree, random forest, bagging regressor and hist gradient boosting regressor. All of them are regression model."
      ]
    },
    {
      "cell_type": "markdown",
      "metadata": {
        "id": "WINIzI1qiuP0",
        "colab_type": "text"
      },
      "source": [
        "<img src=\"https://github.com/ovllya126/UTS_ML2019_ID13307095/blob/master/A2/Pictures/14.png?raw=true\" width=\"500\"/>\n"
      ]
    },
    {
      "cell_type": "markdown",
      "metadata": {
        "id": "NXZQkPe8umq6",
        "colab_type": "text"
      },
      "source": [
        "<img src=\"https://github.com/ovllya126/UTS_ML2019_ID13307095/blob/master/A2/Pictures/15.png?raw=true\" width=\"600\"/>\n",
        "\n",
        "                   Figure 21. Models"
      ]
    },
    {
      "cell_type": "markdown",
      "metadata": {
        "id": "CHcrZVcWiwqS",
        "colab_type": "text"
      },
      "source": [
        "The last three functions are used to output the results of parameters evaluation using the Coefficient of Determination and RMSE methods."
      ]
    },
    {
      "cell_type": "markdown",
      "metadata": {
        "id": "EI91qR1miy3m",
        "colab_type": "text"
      },
      "source": [
        "## Linear Regression"
      ]
    },
    {
      "cell_type": "markdown",
      "metadata": {
        "id": "zmUUPECHi9ho",
        "colab_type": "text"
      },
      "source": [
        "In the linear model, we try to use linear regression to handle and predict this dataset. Whereas, this method is not suitable for this dataset, the model using linear regression got a low accuracy, which is only 0.2 (figure 22)."
      ]
    },
    {
      "cell_type": "markdown",
      "metadata": {
        "id": "KZM2f2OHjcmk",
        "colab_type": "text"
      },
      "source": [
        "<img src=\"https://github.com/ovllya126/UTS_ML2019_ID13307095/blob/master/A2/Pictures/16.png?raw=true\" width=\"500\"/>\n",
        "\n",
        "                   Figure 22. Test for Linear Regression"
      ]
    },
    {
      "cell_type": "markdown",
      "metadata": {
        "id": "tUEcSKHhi_rM",
        "colab_type": "text"
      },
      "source": [
        "## Decision Tree Regression"
      ]
    },
    {
      "cell_type": "markdown",
      "metadata": {
        "id": "O0ICgJNajA1w",
        "colab_type": "text"
      },
      "source": [
        "There is only a parameter that need to be evaluated in the decision tree regression model. This parameter is max depth of tree. In Figure 23, MSE and\n",
        "Coefficient of the decision tree regression is approximate 0.4986 when the max depth value is 7."
      ]
    },
    {
      "cell_type": "markdown",
      "metadata": {
        "id": "kN2E0muTjjX2",
        "colab_type": "text"
      },
      "source": [
        "<img src=\"https://github.com/ovllya126/UTS_ML2019_ID13307095/blob/master/A2/Pictures/17.png?raw=true\" width=\"600\"/>\n",
        "\n",
        "        Figure 23. Adjustment for 'max_depth' in Decision Tree Regression"
      ]
    },
    {
      "cell_type": "markdown",
      "metadata": {
        "id": "BbaaASjNjiI2",
        "colab_type": "text"
      },
      "source": [
        "## Random Forest Regression"
      ]
    },
    {
      "cell_type": "markdown",
      "metadata": {
        "id": "kAsVuQRVjd_o",
        "colab_type": "text"
      },
      "source": [
        "\n",
        "The model of random forest regression is more complex than the decision tree regression model. There are majorly 5 parameters to determine the minimum value of MSE and the maximum score of CoD in this model. They are max_depths, n_estimator, min_samples_split, min_samples_leave and max_feature. Therefore, we need to find the best value of each parameter. The optimum value of each parameter was determined by searching the minimum value of MSE and the maximum value of CoD. We import these values into random forest regression model to obtain the highest score model. Figure 24 to 28 are results of parameters adjustments."
      ]
    },
    {
      "cell_type": "markdown",
      "metadata": {
        "id": "zWLcxUjajpRy",
        "colab_type": "text"
      },
      "source": [
        "<img src=\"https://github.com/ovllya126/UTS_ML2019_ID13307095/blob/master/A2/Pictures/18.png?raw=true\" width=\"600\"/>\n",
        "\n",
        "        Figure 24. Adjustment for 'max_depth' in Random Forest Regression"
      ]
    },
    {
      "cell_type": "markdown",
      "metadata": {
        "id": "K8ycHbiZvAWq",
        "colab_type": "text"
      },
      "source": [
        "<img src=\"https://github.com/ovllya126/UTS_ML2019_ID13307095/blob/master/A2/Pictures/19.png?raw=true\" width=\"600\"/>\n",
        "\n",
        "        Figure 25. Adjustment for 'n_estimators' in Random Forest Regression\n"
      ]
    },
    {
      "cell_type": "markdown",
      "metadata": {
        "id": "-zUyRM4NvFDz",
        "colab_type": "text"
      },
      "source": [
        "<img src=\"https://github.com/ovllya126/UTS_ML2019_ID13307095/blob/master/A2/Pictures/20.png?raw=true\" width=\"600\"/>\n",
        "\n",
        "   Figure 26. Adjustment for 'min_samples_Split' in Random Forest Regression"
      ]
    },
    {
      "cell_type": "markdown",
      "metadata": {
        "id": "J_g3he7_vHA6",
        "colab_type": "text"
      },
      "source": [
        "<img src=\"https://github.com/ovllya126/UTS_ML2019_ID13307095/blob/master/A2/Pictures/21.png?raw=true\" width=\"600\"/>\n",
        "\n",
        "   Figure 27. Adjustment for 'min_samples_leaves' in Random Forest Regression"
      ]
    },
    {
      "cell_type": "markdown",
      "metadata": {
        "id": "QqJMcuMOvKEH",
        "colab_type": "text"
      },
      "source": [
        "<img src=\"https://github.com/ovllya126/UTS_ML2019_ID13307095/blob/master/A2/Pictures/22.png?raw=true\" width=\"600\"/>\n",
        "\n",
        "    Figure 28. Adjustment for 'max_features' in Random Forest Regression"
      ]
    },
    {
      "cell_type": "markdown",
      "metadata": {
        "id": "ofXRW7l1jnN6",
        "colab_type": "text"
      },
      "source": [
        "After selecting the best parameters, the values of parameter is set to test for the result (figure 29)."
      ]
    },
    {
      "cell_type": "markdown",
      "metadata": {
        "id": "yr7k05UdvMz9",
        "colab_type": "text"
      },
      "source": [
        "<img src=\"https://github.com/ovllya126/UTS_ML2019_ID13307095/blob/master/A2/Pictures/23.png?raw=true\" width=\"300\"/>\n",
        "\n",
        "    Figure 29. Test for Random Forest Regression"
      ]
    },
    {
      "cell_type": "markdown",
      "metadata": {
        "id": "8iVi43b5jqN2",
        "colab_type": "text"
      },
      "source": [
        "## Bagging regression"
      ]
    },
    {
      "cell_type": "markdown",
      "metadata": {
        "id": "IS95Z14-jqoY",
        "colab_type": "text"
      },
      "source": [
        "The best value of parameters in bagging regression could be determined through the same approach. There are three significant parameters need to process in the bagging regression model. Figure 30 to 32 shows the best values of parameters."
      ]
    },
    {
      "cell_type": "markdown",
      "metadata": {
        "id": "dsiH_zoKjvNG",
        "colab_type": "text"
      },
      "source": [
        "<img src=\"https://github.com/ovllya126/UTS_ML2019_ID13307095/blob/master/A2/Pictures/24.png?raw=true\" width=\"600\"/>\n",
        "\n",
        "        Figure 30. Adjustment for 'n_estimators' in Bagging Regression"
      ]
    },
    {
      "cell_type": "markdown",
      "metadata": {
        "id": "87Sb4G0IvTWW",
        "colab_type": "text"
      },
      "source": [
        "<img src=\"https://github.com/ovllya126/UTS_ML2019_ID13307095/blob/master/A2/Pictures/25.png?raw=true\" width=\"600\"/>\n",
        "\n",
        "        Figure 31. Adjustment for 'max_samples' in Bagging Regression"
      ]
    },
    {
      "cell_type": "markdown",
      "metadata": {
        "id": "qP4idbSzvVDP",
        "colab_type": "text"
      },
      "source": [
        "<img src=\"https://github.com/ovllya126/UTS_ML2019_ID13307095/blob/master/A2/Pictures/26.png?raw=true\" width=\"600\"/>\n",
        "\n",
        "        Figure 32. Adjustment for 'max_features' in Bagging Regression"
      ]
    },
    {
      "cell_type": "markdown",
      "metadata": {
        "id": "Zi5-ECozjxcU",
        "colab_type": "text"
      },
      "source": [
        "## Hist Gradient Boosting Regression"
      ]
    },
    {
      "cell_type": "markdown",
      "metadata": {
        "id": "OQyDWd8-jzWO",
        "colab_type": "text"
      },
      "source": [
        "The training process of hist gradient boosting regression model is similar with other three model. The results of the best parameters are shown in figure 33 to 35."
      ]
    },
    {
      "cell_type": "markdown",
      "metadata": {
        "id": "dKwSgq1_vXrl",
        "colab_type": "text"
      },
      "source": [
        "<img src=\"https://github.com/ovllya126/UTS_ML2019_ID13307095/blob/master/A2/Pictures/27.png?raw=true\" width=\"600\"/>\n",
        "\n",
        "   Figure 33. Adjustment for 'max_depth' in Hist Gradient Boosting Regression"
      ]
    },
    {
      "cell_type": "markdown",
      "metadata": {
        "id": "gQYi325QvdzN",
        "colab_type": "text"
      },
      "source": [
        "<img src=\"https://github.com/ovllya126/UTS_ML2019_ID13307095/blob/master/A2/Pictures/29.png?raw=true\" width=\"600\"/>\n",
        "\n",
        "Figure 34. Adjustment for 'min_samples_leaf' in Hist Gradient Boosting Regression"
      ]
    },
    {
      "cell_type": "markdown",
      "metadata": {
        "id": "XyD2EI10H85t",
        "colab_type": "text"
      },
      "source": [
        "<img src=\"https://github.com/ovllya126/UTS_ML2019_ID13307095/blob/master/A2/Pictures/30.png?raw=true\" width=\"600\"/>\n",
        "\n",
        "   Figure 35. Adjustment for 'max_bins' in Hist Gradient Boosting Regression"
      ]
    },
    {
      "cell_type": "markdown",
      "metadata": {
        "id": "9uDRw84zj15u",
        "colab_type": "text"
      },
      "source": [
        "## Efficiency"
      ]
    },
    {
      "cell_type": "markdown",
      "metadata": {
        "id": "kXWMPQaAj82E",
        "colab_type": "text"
      },
      "source": [
        "Before building the hist gradient boosting regression model, we also use gradient boosting regression method to establish the model, but this model would spend too much time in the process of training. As this reason, we try to optimize the initial model. We find the hist gradient boosting regression model is appropriate with our dataset.  The method of hist gradient boosting regression could have faster speed than gradient boosting regression when dataset is too large. The reason is that hist gradient could reduce the number of splitting points that need to be considered by pre-allocate data into integer-valued bins. On the contrary, when capacity of dataset is no longer large, this characteristic of hist gradient boosting regression would reduce the processing speed. The gradient boosting regression would become the best choice."
      ]
    },
    {
      "cell_type": "markdown",
      "metadata": {
        "id": "n5lkkcRkj5Gi",
        "colab_type": "text"
      },
      "source": [
        "## Comparation"
      ]
    },
    {
      "cell_type": "markdown",
      "metadata": {
        "id": "DkuJdBQBj1AM",
        "colab_type": "text"
      },
      "source": [
        "<img src=\"https://github.com/ovllya126/UTS_ML2019_ID13307095/blob/master/A2/Pictures/31.png?raw=true\" width=\"1500\"/>\n",
        "\n",
        "   Figure 36. codes for comparison"
      ]
    },
    {
      "cell_type": "markdown",
      "metadata": {
        "id": "FO-LhpNBj9gE",
        "colab_type": "text"
      },
      "source": [
        "<img src=\"https://github.com/ovllya126/UTS_ML2019_ID13307095/blob/master/A2/Pictures/32.png?raw=true\" width=\"400\"/>\n",
        "\n",
        "   Figure 37. results of comparison"
      ]
    },
    {
      "cell_type": "markdown",
      "metadata": {
        "id": "Q3j82tpYkAVs",
        "colab_type": "text"
      },
      "source": [
        "The four curves represent RMSE scores of each model with the change of training size in the Figure. As we can see, even if all data is used to train the decision tree model, the decision tree model gets the lowest score. Although the trends of random forest model and bagging regression model are roughly similar, the score of random forest model is always better than the bagging regression model. Despite the initial score of hist gradient boosting regression is the lowest in these three models, this model has better growth. As the grow of number of training data, HGB model score appears faster increase. When the ratio whose function is to spilt training data is 0.8, the score of HGB model surpasses the random forest model."
      ]
    },
    {
      "cell_type": "markdown",
      "metadata": {
        "id": "8uDv9d8HkD4R",
        "colab_type": "text"
      },
      "source": [
        "# Ethical"
      ]
    },
    {
      "cell_type": "markdown",
      "metadata": {
        "id": "4fGXaSFikGKz",
        "colab_type": "text"
      },
      "source": [
        "The purpose of our project is to design and train a model used to evaluate factors affecting sales and predict the sales of game. However, in terms of ethic, publishers and developers could use this model to get the factor that affects sales, and then add records and advertising features that are not real to improve the game sales, which is absolutely the actions of cheating consumers.\n"
      ]
    },
    {
      "cell_type": "markdown",
      "metadata": {
        "id": "4OTcCdOSkH9h",
        "colab_type": "text"
      },
      "source": [
        "The phenomenon, cheating consumers through fake information, has appeared in many e-commerce marketing. For instance, Taobao is the largest and the most popular online shopping platforms in China. In this website, favorable rating and sales volume directly affect the store orders when users search for goods. Therefore, many sellers hired some people to purchase goods from their online store to left great numbers of good comments. As the result, sellers could get the higher rank of items, which can appeal to more customers."
      ]
    },
    {
      "cell_type": "markdown",
      "metadata": {
        "id": "LV4v_DjCkJnf",
        "colab_type": "text"
      },
      "source": [
        "\n",
        "The sellers of online games can use the same method to appeal more buyers with the help of prediction models. It should be concerned."
      ]
    },
    {
      "cell_type": "markdown",
      "metadata": {
        "id": "EKF5ZNpxkK0n",
        "colab_type": "text"
      },
      "source": [
        "# Conclution"
      ]
    },
    {
      "cell_type": "markdown",
      "metadata": {
        "id": "Bufb_knGkNiE",
        "colab_type": "text"
      },
      "source": [
        "From this assignment, we learnt a lot about Machine Learning implemented by Python."
      ]
    },
    {
      "cell_type": "markdown",
      "metadata": {
        "id": "j1SwBhU9kPZC",
        "colab_type": "text"
      },
      "source": [
        "After considering efficiency and accessibility, we use Scikit-Learn to build and train our models, which has simple and efficient tools for data mining and data analysis. The main and important references we used are Scikit-Learn v0.21.3 API from online website ‘https://scikit-learn.org/stable/modules/classes.html’ and codes posed by tutors on Github.\n"
      ]
    },
    {
      "cell_type": "markdown",
      "metadata": {
        "id": "iiibSX0ZkQoR",
        "colab_type": "text"
      },
      "source": [
        "There are several modules for data modelling including pre-processing, clustering, model selection, classification and regression in Scikit-Learn. We explored them and found appropriate functions to process data and build models."
      ]
    },
    {
      "cell_type": "markdown",
      "metadata": {
        "id": "M1k6dTGGkSRP",
        "colab_type": "text"
      },
      "source": [
        "In terms of pre-processing, the significant step is exploration of each attribute, in order to deciding which attribute should be processed. After that, we tried ‘preprocessing’ module to deal with selected attributes, such as standardization, normalization, encoding categorical features, to get smoother data.\n"
      ]
    },
    {
      "cell_type": "markdown",
      "metadata": {
        "id": "er0x3AN5kT9_",
        "colab_type": "text"
      },
      "source": [
        "Before we started to building models, we learnt and compared each classifier and regressor, choosing what we can use to get better results. Among many classifiers and regressors, we decided to use Decision Tree, Random Forest, Bagging and Gradient Boosting to build models and have the comparison.\n"
      ]
    },
    {
      "cell_type": "markdown",
      "metadata": {
        "id": "k4vA287VkVXF",
        "colab_type": "text"
      },
      "source": [
        "When training and testing, we required knowledge about metrics for models, including mean squared error regression loss and R^2 (coefficient of determination) regression score function. Based on those, we built models fitting different regressors to get criterion results.\n"
      ]
    },
    {
      "cell_type": "markdown",
      "metadata": {
        "id": "kvxTEbIskYWv",
        "colab_type": "text"
      },
      "source": [
        "We also learnt many methods to visualize data, with help of ‘matplotlib’ and ‘seaborn’ from python."
      ]
    },
    {
      "cell_type": "markdown",
      "metadata": {
        "id": "ZNfLfBonkZw0",
        "colab_type": "text"
      },
      "source": [
        "In addition, we think the most important improvement for future works is that we can use ‘GridSearchCV’ function from model selection module to adjust parameters for regressors, which can return the best values of parameters and be more efficient for parameters adjustment."
      ]
    },
    {
      "cell_type": "markdown",
      "metadata": {
        "id": "qrsVjG-m_VhC",
        "colab_type": "text"
      },
      "source": [
        "# Reference"
      ]
    },
    {
      "cell_type": "markdown",
      "metadata": {
        "id": "ap8mYXfJ_XcR",
        "colab_type": "text"
      },
      "source": [
        "Ephraim, Y. & Malah, D. 1985, 'Speech enhancement using a minimum mean-square error log-spectral amplitude estimator', IEEE transactions on acoustics, speech, and signal processing, vol. 33, no. 2, pp. 443-5. </br></br>\n",
        "Friedl, M.A. & Brodley, C.E. 1997, 'Decision tree classification of land cover from remotely sensed data', Remote sensing of environment, vol. 61, no. 3, pp. 399-409.</br></br>\n",
        "Menard, S. 2000, 'Coefficients of determination for multiple logistic regression analysis', The American Statistician, vol. 54, no. 1, pp. 17-24.</br></br>\n",
        "Zheng, Z., Chen, K., Sun, G. & Zha, H. 2007, 'A regression framework for learning ranking functions using relative relevance judgments', Proceedings of the 30th annual international ACM SIGIR conference on Research and development in information retrieval, ACM, pp. 287-94.</br></br>"
      ]
    }
  ]
}